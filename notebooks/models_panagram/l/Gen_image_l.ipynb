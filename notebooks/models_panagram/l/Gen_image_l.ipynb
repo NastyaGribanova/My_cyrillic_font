{
 "cells": [
  {
   "cell_type": "code",
   "execution_count": 12,
   "id": "c59b934d",
   "metadata": {
    "cellId": "rpu8ml26ni8w3ezc3qpcz"
   },
   "outputs": [],
   "source": [
    "import os\n",
    "import pandas as pd\n",
    "\n",
    "img_path = '../rgb/Images/'\n",
    "new_img_path = 'Images/'\n",
    "\n",
    "list_files = []\n",
    "for dir in os.listdir(img_path):\n",
    "    aux_dir = os.path.join(img_path,dir)\n",
    "    \n",
    "    if (str(dir) != \".ipynb_checkpoints\"):\n",
    "        new_dir = str(new_img_path) + str(dir)\n",
    "        os.makedirs(new_dir)\n",
    "        \n",
    "    if os.path.isdir(aux_dir):\n",
    "        for img in os.listdir(aux_dir):\n",
    "            list_files.append([os.path.join(dir,img),dir])"
   ]
  },
  {
   "cell_type": "code",
   "execution_count": 16,
   "id": "f1bd1960",
   "metadata": {
    "cellId": "06eldk2aynzsu8ylq7rfqos"
   },
   "outputs": [],
   "source": [
    "from tensorflow.keras.preprocessing import image \n",
    "import cv2\n",
    "import PIL\n",
    "from PIL import Image\n",
    "import numpy as np\n",
    "from PIL import Image\n",
    "import skimage \n",
    "\n",
    "def to_gray(path_img):\n",
    "    img = cv2.imread(path_img)\n",
    "    img_array = np.array(img)\n",
    "    img = skimage.color.rgb2gray(img_array) * 255\n",
    "    pp_my_img = PIL.Image.fromarray(img).convert('RGB')\n",
    "    #pp_my_img = image.img_to_array(pp_my_img)\n",
    "    #pp_my_img = pp_my_img/255    \n",
    "    return pp_my_img"
   ]
  },
  {
   "cell_type": "code",
   "execution_count": 17,
   "id": "df973809",
   "metadata": {
    "cellId": "mn0t7emxyxj9xzdadri2g"
   },
   "outputs": [],
   "source": [
    "for i in range(len(list_files)):\n",
    "    img = img_path + list_files[i][0]\n",
    "    img = to_gray(img)\n",
    "    new_image_path = 'Images/' + str(list_files[i][0])\n",
    "    img.save(new_image_path)"
   ]
  },
  {
   "cell_type": "code",
   "execution_count": null,
   "id": "9d8cc9d5",
   "metadata": {
    "cellId": "dpeuczt08jd7uaxagvze48"
   },
   "outputs": [],
   "source": []
  }
 ],
 "metadata": {
  "kernelspec": {
   "display_name": "Yandex DataSphere Kernel",
   "language": "python",
   "name": "python3"
  },
  "language_info": {
   "codemirror_mode": {
    "name": "ipython",
    "version": 3
   },
   "file_extension": ".py",
   "mimetype": "text/x-python",
   "name": "python",
   "nbconvert_exporter": "python",
   "pygments_lexer": "ipython3",
   "version": "3.7.7"
  },
  "notebookId": "919d5d21-9016-4948-82ce-597d13d3fc27",
  "notebookPath": "models_panagram/l/Gen_image_l.ipynb"
 },
 "nbformat": 4,
 "nbformat_minor": 5
}
