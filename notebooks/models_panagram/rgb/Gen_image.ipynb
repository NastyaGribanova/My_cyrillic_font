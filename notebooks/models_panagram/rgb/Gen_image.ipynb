{
 "cells": [
  {
   "cell_type": "code",
   "execution_count": 11,
   "id": "45734568",
   "metadata": {
    "cellId": "0cqeyywovd36ndvxfhmmsft"
   },
   "outputs": [],
   "source": [
    "#!c1.8\n",
    "panagrams = []\n",
    "panagram1 = 'Съешь ещё этих \\n мягких францу\\nзских булок \\n да выпей чаю'\n",
    "panagram2 = 'Друг мой эльф! \\n Яшке б свёз\\nптиц южных чащ!'\n",
    "panagram3 = 'В чащах юга жил\\n бы цитрус? Да\\n но фальшив\\nый экземпляр!'\n",
    "panagram4 = 'Любя, съешь щип\\nцы, — вздохнёт\\nмэр, — кайф\\nжгуч'\n",
    "panagram5 = 'Южно-эфиопский \\nграч увёл мышь\\nза хобот на\\nсъезд ящериц.'\n",
    "panagram6 = 'Пиши: зять съел\\nяйцо, ещё чан \\nбрюквы… эх!\\nЖдем фигу!'\n",
    "panagrams.append(panagram1)\n",
    "panagrams.append(panagram2)\n",
    "panagrams.append(panagram3)\n",
    "panagrams.append(panagram4)\n",
    "panagrams.append(panagram5)\n",
    "panagrams.append(panagram6)"
   ]
  },
  {
   "cell_type": "code",
   "execution_count": 12,
   "id": "36358aa4",
   "metadata": {
    "cellId": "w7twp1ue83pn23xiqz1xsk"
   },
   "outputs": [],
   "source": [
    "#!c1.8\n",
    "import random\n",
    "\n",
    "def random_color():\n",
    "    return random.randint(0, 255)\n",
    "\n",
    "def random_font_size(size):\n",
    "    percent = random.randint(9, 20)\n",
    "    font_size = percent * size / 100\n",
    "    return int(font_size)\n",
    "\n",
    "def random_text():\n",
    "    return panagrams[random.randint(0, 5)] "
   ]
  },
  {
   "cell_type": "code",
   "execution_count": 13,
   "id": "f3924472",
   "metadata": {
    "cellId": "g3d0boq153w6zgg16vdsna"
   },
   "outputs": [],
   "source": [
    "#!c1.8\n",
    "from PIL import Image, ImageDraw, ImageFont\n",
    "from math import sqrt\n",
    "\n",
    "def generate_image(font_name_without_family, font_name, font_function_path, save_path, number):\n",
    "    \n",
    "    width = 252\n",
    "    height = 252\n",
    "\n",
    "    color_img = (random_color(), random_color(), random_color())\n",
    "    \n",
    "    img = Image.new('RGB', (width, height), color=color_img)\n",
    "\n",
    "    draw = ImageDraw.ImageDraw(img)\n",
    "\n",
    "    xy = (0, random.randint(60,160))\n",
    "\n",
    "    font = ImageFont.truetype(font_function_path, random_font_size(height))\n",
    "    \n",
    "    distant = 100\n",
    "    while distant < 200:\n",
    "        color_text = (random_color(), random_color(), random_color())\n",
    "        distant = sqrt((color_text[0]-color_img[0])**2+(color_text[1]-color_img[1])**2+(color_text[2]-color_img[2])**2)\n",
    "\n",
    "    text = random_text()  \n",
    "    draw.text(xy=xy, text=text, anchor=\"lm\", font=font, fill=color_text)\n",
    "\n",
    "    new_image_path = str(save_path) + str(font_name_without_family) + \"/\" + str(font_name) + str(number) + '.jpg'\n",
    "\n",
    "    img.save(new_image_path)"
   ]
  },
  {
   "cell_type": "code",
   "execution_count": 15,
   "id": "29678c8f",
   "metadata": {
    "cellId": "m5fdr5yet9o61epgo0drh"
   },
   "outputs": [],
   "source": [
    "#!c1.8\n",
    "import os\n",
    "\n",
    "fonts_path = '../Fonts/'\n",
    "save_path = 'Images/'\n",
    "k = 100\n",
    "\n",
    "for dir in os.listdir(fonts_path):\n",
    "    if (str(dir) != \".ipynb_checkpoints\"):\n",
    "        aux_dir = os.path.join(fonts_path,dir)\n",
    "        new_dir = str(save_path) + str(dir)\n",
    "        os.makedirs(new_dir)\n",
    "        if os.path.isdir(aux_dir):\n",
    "            for file in os.listdir(aux_dir):\n",
    "                filename = os.fsdecode(file)\n",
    "                font_name = filename.split('.')[0]\n",
    "                font_function_path = os.path.join(aux_dir,file)\n",
    "                font_name_without_family = font_name.split('-')[0]\n",
    "\n",
    "                if filename.startswith(\"Inter\"): \n",
    "                    for i in range(200):\n",
    "                        generate_image(font_name_without_family, font_name, font_function_path, save_path, i)\n",
    "                                       \n",
    "                if filename.startswith(\"Montserrat\"): \n",
    "                    for i in range(110):\n",
    "                        generate_image(font_name_without_family, font_name, font_function_path, save_path, i)\n",
    "                        \n",
    "                if filename.startswith(\"Nunito\"): \n",
    "                    for i in range(120):\n",
    "                        generate_image(font_name_without_family, font_name, font_function_path, save_path, i)\n",
    "                        \n",
    "                if filename.startswith(\"OpenSans\"): \n",
    "                    for i in range(140):\n",
    "                        generate_image(font_name_without_family, font_name, font_function_path, save_path, i)\n",
    "                \n",
    "                if filename.startswith(\"Oswald\"): \n",
    "                    for i in range(290):\n",
    "                        generate_image(font_name_without_family, font_name, font_function_path, save_path, i)\n",
    "                        \n",
    "                if filename.startswith(\"PTSans\"): \n",
    "                    for i in range(510):\n",
    "                        generate_image(font_name_without_family, font_name, font_function_path, save_path, i)\n",
    "                        \n",
    "                if filename.startswith(\"Raleway\"): \n",
    "                    for i in range(100):\n",
    "                        generate_image(font_name_without_family, font_name, font_function_path, save_path, i)\n",
    "                        \n",
    "                if filename.startswith(\"Roboto\"): \n",
    "                    for i in range(160):\n",
    "                        generate_image(font_name_without_family, font_name, font_function_path, save_path, i)\n",
    "                        \n",
    "                if filename.startswith(\"SourceSansPro\"): \n",
    "                    for i in range(160):\n",
    "                        generate_image(font_name_without_family, font_name, font_function_path, save_path, i)\n",
    "                        \n",
    "                if filename.startswith(\"Ubuntu\"): \n",
    "                    for i in range(260):\n",
    "                        generate_image(font_name_without_family, font_name, font_function_path, save_path, i)"
   ]
  },
  {
   "cell_type": "code",
   "execution_count": null,
   "id": "72fc70fe",
   "metadata": {
    "cellId": "vbxif8xg75oc1xswwajz0k"
   },
   "outputs": [],
   "source": [
    "#!c1.8\n"
   ]
  }
 ],
 "metadata": {
  "kernelspec": {
   "display_name": "Yandex DataSphere Kernel",
   "language": "python",
   "name": "python3"
  },
  "language_info": {
   "codemirror_mode": {
    "name": "ipython",
    "version": 3
   },
   "file_extension": ".py",
   "mimetype": "text/x-python",
   "name": "python",
   "nbconvert_exporter": "python",
   "pygments_lexer": "ipython3",
   "version": "3.7.7"
  },
  "notebookId": "3dfbb772-fcf8-4199-8fc8-07ab11ba9e99",
  "notebookPath": "models_panagram/rgb/Gen_image.ipynb"
 },
 "nbformat": 4,
 "nbformat_minor": 5
}
