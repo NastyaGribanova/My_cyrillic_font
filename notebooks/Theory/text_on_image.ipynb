{
 "cells": [
  {
   "cell_type": "code",
   "execution_count": 4,
   "id": "2d17aa07",
   "metadata": {
    "cellId": "p3nmp1c4mym1wi015nx6n"
   },
   "outputs": [],
   "source": [
    "import cv2\n",
    "import numpy as np\n",
    "import easyocr\n",
    "import matplotlib.pyplot as plt\n",
    "%matplotlib inline\n",
    "from PIL import Image"
   ]
  },
  {
   "cell_type": "code",
   "execution_count": 5,
   "id": "182fd662",
   "metadata": {
    "cellId": "er22apisoemyyhkyge2hg"
   },
   "outputs": [],
   "source": [
    "my_img_path = 'Images/Inter/Inter-Regular2.jpg'"
   ]
  },
  {
   "cell_type": "code",
   "execution_count": 6,
   "id": "2a5d4f6f",
   "metadata": {
    "cellId": "4ts4r75fcglkqqqzpivgff"
   },
   "outputs": [],
   "source": [
    "def recognize_text(img_path):   \n",
    "    reader = easyocr.Reader(['ru'])\n",
    "    return reader.readtext(img_path)"
   ]
  },
  {
   "cell_type": "code",
   "execution_count": 16,
   "id": "b2a44f7f",
   "metadata": {
    "cellId": "zjbxlr8ed1y9n63irxs4"
   },
   "outputs": [],
   "source": [
    "def overlay_ocr_text(img_path):\n",
    "    \n",
    "    img = cv2.imread(img_path)\n",
    "    img = cv2.cvtColor(img, cv2.COLOR_BGR2RGB)\n",
    "    \n",
    "    dpi = 80\n",
    "    fig_width, fig_height = int(img.shape[0]/dpi), int(img.shape[1]/dpi)\n",
    "    plt.figure()\n",
    "    f, axarr = plt.subplots(1,2, figsize=(fig_width, fig_height)) \n",
    "    axarr[0].imshow(img)\n",
    "    \n",
    "    result = recognize_text(img_path)\n",
    "\n",
    "    for (bbox, text, prob) in result:\n",
    "        if prob >= 0.5:\n",
    "            print(f'Detected text: {text} (Probability: {prob:.2f})')\n",
    "\n",
    "            (top_left, top_right, bottom_right, bottom_left) = bbox\n",
    "            top_left = (int(top_left[0]), int(top_left[1]))\n",
    "            bottom_right = (int(bottom_right[0]), int(bottom_right[1]))\n",
    "\n",
    "            cv2.rectangle(img=img, pt1=top_left, pt2=bottom_right, color=(255, 0, 0), thickness=10)\n",
    "            \n",
    "            cv2.putText(img=img, text=text, org=(top_left[0], top_left[1] - 10), fontFace=cv2.FONT_HERSHEY_SIMPLEX, fontScale=1, color=(255, 0, 0), thickness=8)\n",
    "        \n",
    "    axarr[1].imshow(img)\n"
   ]
  },
  {
   "cell_type": "code",
   "execution_count": 17,
   "id": "517d1e99",
   "metadata": {
    "cellId": "tyy4908coho14aix9r9kbqj"
   },
   "outputs": [
    {
     "name": "stdout",
     "output_type": "stream",
     "text": [
      "Detected text: ЫсгфяЦ (Probability: 0.69)\n"
     ]
    },
    {
     "name": "stderr",
     "output_type": "stream",
     "text": [
      "CUDA not available - defaulting to CPU. Note: This module is much faster with a GPU.\n"
     ]
    },
    {
     "data": {
      "text/plain": [
       "<Figure size 432x288 with 0 Axes>"
      ]
     },
     "metadata": {},
     "output_type": "display_data"
    },
    {
     "data": {
      "image/png": "[encoded data removed]",
      "text/plain": [
       "<Figure size 288x288 with 2 Axes>"
      ]
     },
     "metadata": {
      "needs_background": "light"
     },
     "output_type": "display_data"
    }
   ],
   "source": [
    "overlay_ocr_text(my_img_path)"
   ]
  },
  {
   "cell_type": "code",
   "execution_count": 18,
   "id": "bbe3fe94",
   "metadata": {
    "cellId": "joqz4cy62roccdwzcrfyop"
   },
   "outputs": [
    {
     "name": "stderr",
     "output_type": "stream",
     "text": [
      "CUDA not available - defaulting to CPU. Note: This module is much faster with a GPU.\n"
     ]
    }
   ],
   "source": [
    "result = recognize_text(my_img_path)\n",
    "for (bbox, text, prob) in result:\n",
    "    (top_left, top_right, bottom_right, bottom_left) = bbox"
   ]
  },
  {
   "cell_type": "code",
   "execution_count": 22,
   "id": "58707016",
   "metadata": {
    "cellId": "6vjrzgfytsknkpxhkz79"
   },
   "outputs": [],
   "source": [
    "left = top_left[0]\n",
    "upper = top_left[1]\n",
    "right = bottom_right[0]\n",
    "lower = bottom_right[1]\n",
    "\n",
    "box=(left, upper, right, lower)"
   ]
  },
  {
   "cell_type": "code",
   "execution_count": 24,
   "id": "cfc75224",
   "metadata": {
    "cellId": "dv37vc9b3wgsi2rb251v4"
   },
   "outputs": [],
   "source": [
    "im = Image.open(my_img_path)\n",
    "im_crop = im.crop(box)"
   ]
  },
  {
   "cell_type": "code",
   "execution_count": 25,
   "id": "f7280c32",
   "metadata": {
    "cellId": "4yisdsvnrzovozaq8t4ov"
   },
   "outputs": [
    {
     "data": {
      "image/png": "[encoded data removed]",
      "text/plain": [
       "<PIL.Image.Image image mode=L size=320x104 at 0x7F034FF82190>"
      ]
     },
     "metadata": {},
     "output_type": "display_data"
    }
   ],
   "source": [
    "im_crop"
   ]
  },
  {
   "cell_type": "code",
   "execution_count": 34,
   "id": "c897348b",
   "metadata": {
    "cellId": "mdwptfgam9jdbfyk6xh"
   },
   "outputs": [],
   "source": [
    "from PIL import Image \n",
    "\n",
    "def make_square(old_img, new_path, max_size, fill_color):\n",
    "    # find image dimensions\n",
    "    #old_img = Image.open(old_path)\n",
    "    size = (min(max_size, max(old_img.size)),) * 2\n",
    "\n",
    "    # resize if old image is larger than max_size\n",
    "    if size[0] < old_img.size[0] or size[1] < old_img.size[1]:\n",
    "        old_img.thumbnail(size)\n",
    "\n",
    "    # create new image with the given color and computed size\n",
    "    new_img = Image.new(old_img.mode, size, fill_color)\n",
    "\n",
    "    # find coordinates of upper-left corner to center the old image in the new image\n",
    "    assert new_img.size[0] >= old_img.size[0]\n",
    "    assert new_img.size[1] >= old_img.size[1]\n",
    "\n",
    "    x = (new_img.size[0] - old_img.size[0]) // 2\n",
    "    y = (new_img.size[1] - old_img.size[1]) // 2\n",
    "\n",
    "    # paste image\n",
    "    new_img.paste(old_img, (x, y))\n",
    "\n",
    "    # save image\n",
    "    #new_img.save(new_path)\n",
    "    \n",
    "    return new_img"
   ]
  },
  {
   "cell_type": "code",
   "execution_count": 38,
   "id": "502ebb38",
   "metadata": {
    "cellId": "lio6kluqquwwux59otfa"
   },
   "outputs": [
    {
     "data": {
      "image/png": "[encoded data removed]",
      "text/plain": [
       "<PIL.Image.Image image mode=L size=128x128 at 0x7FC7E301EAD0>"
      ]
     },
     "metadata": {},
     "output_type": "display_data"
    }
   ],
   "source": [
    "make_square(im_crop, 'square_', 128, 255)"
   ]
  },
  {
   "cell_type": "code",
   "execution_count": null,
   "id": "8b45d567",
   "metadata": {
    "cellId": "ye5irst6y77bqy7tmbyftc"
   },
   "outputs": [],
   "source": []
  }
 ],
 "metadata": {
  "kernelspec": {
   "display_name": "Yandex DataSphere Kernel",
   "language": "python",
   "name": "python3"
  },
  "language_info": {
   "codemirror_mode": {
    "name": "ipython",
    "version": 3
   },
   "file_extension": ".py",
   "mimetype": "text/x-python",
   "name": "python",
   "nbconvert_exporter": "python",
   "pygments_lexer": "ipython3",
   "version": "3.7.7"
  },
  "notebookId": "7f352bf6-ad18-4503-a874-2b705c4ebf18",
  "notebookPath": "text_on_image.ipynb"
 },
 "nbformat": 4,
 "nbformat_minor": 5
}
