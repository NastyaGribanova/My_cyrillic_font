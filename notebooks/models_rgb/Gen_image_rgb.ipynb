{
 "cells": [
  {
   "cell_type": "code",
   "execution_count": 45,
   "metadata": {
    "cellId": "btq07rp2d3va39w5uv1k2a"
   },
   "outputs": [],
   "source": [
    "import random\n",
    "\n",
    "def random_color():\n",
    "    return random.randint(0, 255)\n",
    "\n",
    "def random_count():\n",
    "    return random.randint(1, 15)\n",
    "\n",
    "def random_font_size(size):\n",
    "    percent = random.randint(9, 60)\n",
    "    font_size = percent * size / 100\n",
    "    return int(font_size)"
   ]
  },
  {
   "cell_type": "code",
   "execution_count": 46,
   "metadata": {
    "cellId": "wgon0bdnob85avmry8cuny"
   },
   "outputs": [],
   "source": [
    "#!c1.8\n",
    "from PIL import Image, ImageDraw, ImageFont\n",
    "from math import sqrt\n",
    "\n",
    "def generate_image(font_name_without_family, font_name, font_function_path, save_path, number):\n",
    "    \n",
    "    width = 252\n",
    "    height = 252\n",
    "\n",
    "    color_img = (random_color(), random_color(), random_color())\n",
    "    \n",
    "    img = Image.new('RGB', (width, height), color=color_img)\n",
    "\n",
    "    draw = ImageDraw.ImageDraw(img)\n",
    "\n",
    "    xy = (random.randint(1, int(img.size[0]/2)), random.randint(int(img.size[1]/6.5), int(img.size[1]/1.8)))\n",
    "\n",
    "    text = ''\n",
    "    count = random_count()\n",
    "    for i in range(count):\n",
    "        text += str(chr(random.randint(1040, 1103)))\n",
    "\n",
    "    font = ImageFont.truetype(font_function_path, random_font_size(height))\n",
    "    \n",
    "    distant = 100\n",
    "    while distant < 200:\n",
    "        color_text = (random_color(), random_color(), random_color())\n",
    "        distant = sqrt((color_text[0]-color_img[0])**2+(color_text[1]-color_img[1])**2+(color_text[2]-color_img[2])**2)\n",
    "\n",
    "    draw.text(xy=xy, text=text, anchor=\"lm\", font=font, fill=color_text)\n",
    "\n",
    "    new_image_path = str(save_path) + str(font_name_without_family) + \"/\" + str(font_name) + str(number) + '.jpg'\n",
    "\n",
    "    img.save(new_image_path)"
   ]
  },
  {
   "cell_type": "markdown",
   "metadata": {
    "cellId": "ku1n1491ppk6ik7t8w7"
   },
   "source": [
    "Достаем шрифты из папки, генерируем изображения с текстом заданного шрифта, после чего сохраняем в отдельную папку полученные изображения"
   ]
  },
  {
   "cell_type": "code",
   "execution_count": 44,
   "metadata": {
    "cellId": "z6jw4r4l07iw01qwdnkqxq"
   },
   "outputs": [],
   "source": [
    "#!c1.8\n",
    "import os\n",
    "\n",
    "fonts_path = '../Fonts/'\n",
    "save_path = 'Images/'\n",
    "k = 100\n",
    "\n",
    "for dir in os.listdir(fonts_path):\n",
    "    if (str(dir) != \".ipynb_checkpoints\"):\n",
    "        aux_dir = os.path.join(fonts_path,dir)\n",
    "        new_dir = str(save_path) + str(dir)\n",
    "        os.makedirs(new_dir)\n",
    "        if os.path.isdir(aux_dir):\n",
    "            for file in os.listdir(aux_dir):\n",
    "                filename = os.fsdecode(file)\n",
    "                font_name = filename.split('.')[0]\n",
    "                font_function_path = os.path.join(aux_dir,file)\n",
    "                font_name_without_family = font_name.split('-')[0]\n",
    "\n",
    "                if filename.endswith(\".ttf\"): \n",
    "                    for i in range(k):\n",
    "                        generate_image(font_name_without_family, font_name, font_function_path, save_path, i)"
   ]
  },
  {
   "cell_type": "markdown",
   "metadata": {
    "cellId": "7fpoymofevgcjwq474izsu"
   },
   "source": [
    "Генерируем изображения - у каждого шрифта разное количество начертаний, поэтому генерируем разное количество разных начертаний, чтоб в общем количество картинок шрифтов было примерно одинаковым"
   ]
  },
  {
   "cell_type": "code",
   "execution_count": 48,
   "metadata": {
    "cellId": "d1gaaqzi3cqap7d587rkdf"
   },
   "outputs": [],
   "source": [
    "#!c1.8\n",
    "import os\n",
    "\n",
    "fonts_path = '../Fonts/'\n",
    "save_path = 'Images/'\n",
    "k = 100\n",
    "\n",
    "for dir in os.listdir(fonts_path):\n",
    "    if (str(dir) != \".ipynb_checkpoints\"):\n",
    "        aux_dir = os.path.join(fonts_path,dir)\n",
    "        new_dir = str(save_path) + str(dir)\n",
    "        os.makedirs(new_dir)\n",
    "        if os.path.isdir(aux_dir):\n",
    "            for file in os.listdir(aux_dir):\n",
    "                filename = os.fsdecode(file)\n",
    "                font_name = filename.split('.')[0]\n",
    "                font_function_path = os.path.join(aux_dir,file)\n",
    "                font_name_without_family = font_name.split('-')[0]\n",
    "\n",
    "                if filename.startswith(\"Inter\"): \n",
    "                    for i in range(200):\n",
    "                        generate_image(font_name_without_family, font_name, font_function_path, save_path, i)\n",
    "                                       \n",
    "                if filename.startswith(\"Montserrat\"): \n",
    "                    for i in range(110):\n",
    "                        generate_image(font_name_without_family, font_name, font_function_path, save_path, i)\n",
    "                        \n",
    "                if filename.startswith(\"Nunito\"): \n",
    "                    for i in range(120):\n",
    "                        generate_image(font_name_without_family, font_name, font_function_path, save_path, i)\n",
    "                        \n",
    "                if filename.startswith(\"OpenSans\"): \n",
    "                    for i in range(140):\n",
    "                        generate_image(font_name_without_family, font_name, font_function_path, save_path, i)\n",
    "                \n",
    "                if filename.startswith(\"Oswald\"): \n",
    "                    for i in range(290):\n",
    "                        generate_image(font_name_without_family, font_name, font_function_path, save_path, i)\n",
    "                        \n",
    "                if filename.startswith(\"PTSans\"): \n",
    "                    for i in range(510):\n",
    "                        generate_image(font_name_without_family, font_name, font_function_path, save_path, i)\n",
    "                        \n",
    "                if filename.startswith(\"Raleway\"): \n",
    "                    for i in range(100):\n",
    "                        generate_image(font_name_without_family, font_name, font_function_path, save_path, i)\n",
    "                        \n",
    "                if filename.startswith(\"Roboto\"): \n",
    "                    for i in range(160):\n",
    "                        generate_image(font_name_without_family, font_name, font_function_path, save_path, i)\n",
    "                        \n",
    "                if filename.startswith(\"SourseSansPro\"): \n",
    "                    for i in range(160):\n",
    "                        generate_image(font_name_without_family, font_name, font_function_path, save_path, i)\n",
    "                        \n",
    "                if filename.startswith(\"Ubuntu\"): \n",
    "                    for i in range(260):\n",
    "                        generate_image(font_name_without_family, font_name, font_function_path, save_path, i)"
   ]
  },
  {
   "cell_type": "code",
   "execution_count": null,
   "metadata": {
    "cellId": "end0g24kbvhkf3u3icykem"
   },
   "outputs": [],
   "source": [
    "#!c1.8\n"
   ]
  }
 ],
 "metadata": {
  "kernelspec": {
   "display_name": "Yandex DataSphere Kernel",
   "language": "python",
   "name": "python3"
  },
  "language_info": {
   "codemirror_mode": {
    "name": "ipython",
    "version": 3
   },
   "file_extension": ".py",
   "mimetype": "text/x-python",
   "name": "python",
   "nbconvert_exporter": "python",
   "pygments_lexer": "ipython3",
   "version": "3.7.7"
  },
  "notebookId": "bcd8d7b9-0102-4e49-94c3-dfff6ff9ae53",
  "notebookPath": "models_rgb/Gen_image_rgb.ipynb"
 },
 "nbformat": 4,
 "nbformat_minor": 4
}
