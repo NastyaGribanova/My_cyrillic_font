{
 "cells": [
  {
   "cell_type": "code",
   "execution_count": 236,
   "id": "29b57ed7",
   "metadata": {
    "cellId": "v4kqdo94uqkvihcgfyow8"
   },
   "outputs": [],
   "source": [
    "#!c1.8\n",
    "import warnings\n",
    "warnings.filterwarnings('ignore')\n",
    "%matplotlib inline"
   ]
  },
  {
   "cell_type": "code",
   "execution_count": 245,
   "id": "5ac377c1",
   "metadata": {
    "cellId": "gu9xnuy1tnt9ntgzs12nxt"
   },
   "outputs": [],
   "source": [
    "#!c1.8\n",
    "from pathlib import Path  \n",
    "import numpy as np  \n",
    "import torch \n",
    "from torch.utils.data import Dataset, DataLoader \n",
    "from torch.utils.data.dataset import Subset \n",
    "from torchvision.datasets import ImageFolder \n",
    "from torchvision.transforms import Compose, RandomResizedCrop, RandomVerticalFlip, RandomHorizontalFlip \n",
    "from torchvision.transforms import ColorJitter, ToTensor, Normalize  \n",
    "import torch.nn as nn "
   ]
  },
  {
   "cell_type": "markdown",
   "id": "6cc0563a",
   "metadata": {
    "cellId": "6ukpslzglsh6a9zpl9ffxn"
   },
   "source": [
    "Формируем датасеты"
   ]
  },
  {
   "cell_type": "code",
   "execution_count": 246,
   "id": "28542b1f",
   "metadata": {
    "cellId": "ddy09u5zarmmoztcdrp4q"
   },
   "outputs": [],
   "source": [
    "#!c1.8\n",
    "import torchvision\n",
    "from torchvision import transforms, models\n",
    "\n",
    "train_dir = 'images_splited/train'\n",
    "val_dir = 'images_splited/val'\n",
    "test_dir = 'images_splited/test'\n",
    "\n",
    "image_transforms = transforms.Compose([\n",
    "    transforms.ToTensor()\n",
    "])\n",
    "\n",
    "target_transforms = transforms.Lambda(lambda x: x-1)\n",
    "\n",
    "train_dataset = torchvision.datasets.ImageFolder(train_dir, image_transforms, target_transforms)\n",
    "val_dataset = torchvision.datasets.ImageFolder(val_dir, image_transforms, target_transforms)\n",
    "test_dataset = torchvision.datasets.ImageFolder(test_dir, image_transforms, target_transforms)"
   ]
  },
  {
   "cell_type": "code",
   "execution_count": 247,
   "id": "0581081d",
   "metadata": {
    "cellId": "uj2et3fw33wpy1n9akql"
   },
   "outputs": [
    {
     "name": "stdout",
     "output_type": "stream",
     "text": [
      "Inter\t    Nunito    Oswald  Raleway  SourceSansPro\n",
      "Montserrat  OpenSans  PTSans  Roboto   Ubuntu\n"
     ]
    }
   ],
   "source": [
    "#!c1.8\n",
    "!ls 'images_splited/train'"
   ]
  },
  {
   "cell_type": "code",
   "execution_count": 248,
   "id": "9f0e51e2",
   "metadata": {
    "cellId": "yp94yw3eafphu8wzs7psd5"
   },
   "outputs": [],
   "source": [
    "#!c1.8\n",
    "import torch\n",
    "batch_size = 8\n",
    "train_dataloader = torch.utils.data.DataLoader(\n",
    "    train_dataset, batch_size=batch_size, shuffle=True, num_workers=batch_size)\n",
    "val_dataloader = torch.utils.data.DataLoader(\n",
    "    val_dataset, batch_size=batch_size, shuffle=False, num_workers=batch_size)\n",
    "test_dataloader = torch.utils.data.DataLoader(\n",
    "    test_dataset, batch_size=batch_size, shuffle=True, num_workers=batch_size)"
   ]
  },
  {
   "cell_type": "code",
   "execution_count": 249,
   "id": "d6ff18cd",
   "metadata": {
    "cellId": "9u8lovg8nevcuwt7swu3ln"
   },
   "outputs": [
    {
     "data": {
      "text/plain": [
       "1457"
      ]
     },
     "metadata": {},
     "output_type": "display_data"
    }
   ],
   "source": [
    "#!c1.8\n",
    "len(train_dataloader)"
   ]
  },
  {
   "cell_type": "code",
   "execution_count": 250,
   "id": "b9ba3361",
   "metadata": {
    "cellId": "ugcxh2wqov85a0vjq46j7g"
   },
   "outputs": [
    {
     "data": {
      "text/plain": [
       "11654"
      ]
     },
     "metadata": {},
     "output_type": "display_data"
    }
   ],
   "source": [
    "#!c1.8\n",
    "len(train_dataset)"
   ]
  },
  {
   "cell_type": "markdown",
   "id": "bbea199a",
   "metadata": {
    "cellId": "l4mxi7yqqiis75bzyhu9zm"
   },
   "source": [
    "Выведем пример изображения с таргет классом"
   ]
  },
  {
   "cell_type": "code",
   "execution_count": 253,
   "id": "8ba11105",
   "metadata": {
    "cellId": "zq0749nwt46n71gpmd6ck"
   },
   "outputs": [],
   "source": [
    "#!c1.8\n",
    "import matplotlib.pyplot as plt\n",
    "def show_input(input_tensor, title=''):\n",
    "    image = input_tensor.permute(1, 2, 0).numpy()\n",
    "    plt.imshow(image.clip(0, 1))\n",
    "    plt.title(title)\n",
    "    plt.show()\n",
    "    plt.pause(0.001)"
   ]
  },
  {
   "cell_type": "code",
   "execution_count": 256,
   "id": "a944bce6",
   "metadata": {
    "cellId": "hxkpu0x95dj1aohp2ab0i3"
   },
   "outputs": [
    {
     "name": "stdout",
     "output_type": "stream",
     "text": [
      "tensor(1)\n"
     ]
    },
    {
     "data": {
      "image/png": "[encoded data removed]",
      "text/plain": [
       "<Figure size 432x288 with 1 Axes>"
      ]
     },
     "metadata": {
      "needs_background": "light"
     },
     "output_type": "display_data"
    }
   ],
   "source": [
    "#!c1.8\n",
    "X_batch, y_batch = next(iter(train_dataloader))\n",
    "show_input(X_batch[0])\n",
    "print(y_batch[0])"
   ]
  },
  {
   "cell_type": "markdown",
   "id": "415c76b6",
   "metadata": {
    "cellId": "r3jpt41ovhe38ic3zap98"
   },
   "source": [
    "Определяем нашу нейронную сеть"
   ]
  },
  {
   "cell_type": "code",
   "execution_count": 49,
   "id": "65cbc0dc",
   "metadata": {
    "cellId": "53eonftcprbaesxaecjbwl"
   },
   "outputs": [],
   "source": [
    "#!c1.8\n",
    "import torch.nn as nn\n",
    "\n",
    "class LeNet(nn.Module):\n",
    "    def __init__(self):\n",
    "        super(LeNet, self).__init__()\n",
    "        self.conv1 = nn.Conv2d(in_channels=3, out_channels=6, kernel_size=3, padding=1)\n",
    "        self.conv2 = nn.Conv2d(in_channels=6, out_channels=6, kernel_size=3, padding=1)\n",
    "        self.act1 = nn.ReLU()\n",
    "        self.pool1 = nn.MaxPool2d(kernel_size=2, stride=2)\n",
    "        self.bn1 = torch.nn.BatchNorm2d(num_features=6)\n",
    "        \n",
    "        self.conv3 = nn.Conv2d(in_channels=6, out_channels=16, kernel_size=3, padding=1)\n",
    "        self.conv4 = nn.Conv2d(in_channels=16, out_channels=16, kernel_size=3, padding=1)\n",
    "        self.act2 = nn.ReLU()\n",
    "        self.pool2 = nn.MaxPool2d(kernel_size=2, stride=2)\n",
    "        self.bn2 = torch.nn.BatchNorm2d(num_features=16)\n",
    "        \n",
    "        self.flatten = torch.nn.Flatten()\n",
    "        \n",
    "        self.fc1 = nn.Linear(in_features=63 * 63 * 16, out_features=63)\n",
    "        self.act3 = nn.ReLU()\n",
    "\n",
    "        self.fc2 = nn.Linear(63, 10)\n",
    "        \n",
    "        self.drop = torch.nn.Dropout(0.25)\n",
    "        \n",
    "    def forward(self, x):\n",
    "        x = self.conv1(x)\n",
    "        x = self.conv2(x)\n",
    "        x = self.act1(x)\n",
    "        x = self.pool1(x)\n",
    "        x = self.bn1(x)\n",
    "        \n",
    "        x = self.conv3(x)\n",
    "        x = self.conv4(x)\n",
    "        x = self.act2(x)\n",
    "        x = self.pool2(x)\n",
    "        x = self.bn2(x)\n",
    "        \n",
    "        x = self.flatten(x)\n",
    "        x = self.fc1(x)\n",
    "        x = self.act3(x)\n",
    "        x = self.fc2(x)\n",
    "        \n",
    "        x = self.drop(x)\n",
    "        return x"
   ]
  },
  {
   "cell_type": "code",
   "execution_count": 50,
   "id": "2f8b8491",
   "metadata": {
    "cellId": "xsv5m7c5h3erxzhvlryuqq"
   },
   "outputs": [],
   "source": [
    "#!c1.8\n",
    "model = LeNet()\n",
    "optimizer = torch.optim.Adam(model.parameters(), lr=1.0e-3)\n",
    "criterion = nn.CrossEntropyLoss()"
   ]
  },
  {
   "cell_type": "markdown",
   "id": "5af71f04",
   "metadata": {
    "cellId": "y9wc3m2cz6j4iyw733gleq"
   },
   "source": [
    "process_function для обработки одного батча и служит для реализации проходов по обучающей выборке - только определяет необходимые объекты без запуска обучения. Для дальнейшего запуска на движке Engine"
   ]
  },
  {
   "cell_type": "code",
   "execution_count": 51,
   "id": "704d7ea1",
   "metadata": {
    "cellId": "3afnd81kneta5gztxicdpn"
   },
   "outputs": [],
   "source": [
    "#!c1.8\n",
    "from ignite.engine import Engine, _prepare_batch  \n",
    "device = torch.device('cuda:0' if torch.cuda.is_available() else 'cpu')\n",
    "def process_function(engine, batch):     \n",
    "    model.train()     \n",
    "    optimizer.zero_grad()     \n",
    "    x, y = _prepare_batch(batch, device=device)     \n",
    "    y_pred = model(x)     \n",
    "    loss = criterion(y_pred, y)     \n",
    "    loss.backward()     \n",
    "    optimizer.step()     \n",
    "    return loss.item()  \n",
    "\n",
    "trainer = Engine(process_function)"
   ]
  },
  {
   "cell_type": "markdown",
   "id": "ec2e121f",
   "metadata": {
    "cellId": "4sdzlhnguki94a1s1grpzg"
   },
   "source": [
    "Вывод на экран значения функции потерь"
   ]
  },
  {
   "cell_type": "code",
   "execution_count": 41,
   "id": "150e1c34",
   "metadata": {
    "cellId": "4cf0rb6xc75bccrfzz0slm"
   },
   "outputs": [],
   "source": [
    "#!c1.8\n",
    "#from ignite.engine import Events\n",
    "#log_interval = 500\n",
    "#@trainer.on(Events.ITERATION_COMPLETED) \n",
    "#def log_training_loss(engine):     \n",
    "#    iteration = (engine.state.iteration - 1) % len(train_dataloader) + 1     \n",
    "#    if iteration % log_interval == 0:         \n",
    "#        print(\"Epoch[{}] Iteration[{}/{}] Loss: {:.4f}\"               \n",
    "#              .format(engine.state.epoch,                          \n",
    "#                      iteration,                           \n",
    "#                      len(train_dataloader),                           \n",
    "#                      engine.state.output))"
   ]
  },
  {
   "cell_type": "markdown",
   "id": "c55b5320",
   "metadata": {
    "cellId": "21fdzh1cnqjy8gw8ly5cfm"
   },
   "source": [
    "Определяем метрики, которые будем печать в процессе обучения"
   ]
  },
  {
   "cell_type": "code",
   "execution_count": 52,
   "id": "29f9c5b3",
   "metadata": {
    "cellId": "5ys0qr7npm308g7o4hfm3jj"
   },
   "outputs": [],
   "source": [
    "#!c1.8\n",
    "from ignite.metrics import Loss, Accuracy, Precision, Recall\n",
    "metrics = {     \n",
    "    'avg_loss': Loss(criterion),     \n",
    "    'avg_accuracy': Accuracy(),     \n",
    "    'avg_precision': Precision(average=True),     \n",
    "    'avg_recall': Recall(average=True) \n",
    "}"
   ]
  },
  {
   "cell_type": "markdown",
   "id": "97ae3c3a",
   "metadata": {
    "cellId": "p2si2ye4qtbps2ykxkufkf"
   },
   "source": [
    "Создаем два движка для оценки модели. Мы создаем два движка для того, чтобы на один из них (val_evaluator) далее прицепить дополнительные обработчики событий для сохранения модели и ранней остановки обучения"
   ]
  },
  {
   "cell_type": "code",
   "execution_count": 53,
   "id": "4ba8e688",
   "metadata": {
    "cellId": "llm1pfa3nx30uplbbeu3f"
   },
   "outputs": [],
   "source": [
    "#!c1.8\n",
    "from ignite.engine import create_supervised_evaluator\n",
    "train_evaluator = create_supervised_evaluator(model, metrics=metrics, device=device)\n",
    "val_evaluator = create_supervised_evaluator(model, metrics=metrics, device=device)"
   ]
  },
  {
   "cell_type": "markdown",
   "id": "9605c014",
   "metadata": {
    "cellId": "dbba5qbcw58zlc3avefk0b"
   },
   "source": [
    "Выберем случайным образом часть обучающей выборки, на которой будем вычислять метрики"
   ]
  },
  {
   "cell_type": "code",
   "execution_count": 54,
   "id": "47c2ccfd",
   "metadata": {
    "cellId": "0hcejnkhho2e5e5ozaxfrxh"
   },
   "outputs": [],
   "source": [
    "#!c1.8\n",
    "import numpy as np\n",
    "from torch.utils.data.dataset import Subset\n",
    "indices = np.arange(len(train_dataset))\n",
    "random_indices = np.random.permutation(indices)[:len(val_dataset)]\n",
    "\n",
    "train_subset = Subset(train_dataset, indices=random_indices)\n",
    "\n",
    "train_eval_loader = DataLoader(train_subset, batch_size=batch_size, shuffle=True,\n",
    "                                num_workers=batch_size, \n",
    "                                drop_last=True)"
   ]
  },
  {
   "cell_type": "markdown",
   "id": "3982f599",
   "metadata": {
    "cellId": "hyk6oxq8fhvbet0ee8n1l"
   },
   "source": [
    "Определим запуск вычисления и вывода метрик в конце эпохи"
   ]
  },
  {
   "cell_type": "code",
   "execution_count": 55,
   "id": "961ce372",
   "metadata": {
    "cellId": "k9dgxpj43h22n07m6762c"
   },
   "outputs": [],
   "source": [
    "#!c1.8\n",
    "from ignite.engine import Events\n",
    "@trainer.on(Events.EPOCH_COMPLETED) \n",
    "def compute_and_display_offline_train_metrics(engine):\n",
    "    epoch = engine.state.epoch     \n",
    "    print(\"Compute train metrics...\") \n",
    "    metrics = train_evaluator.run(train_eval_loader).metrics  \n",
    "    print(\"Training Results - Epoch: {}  Average Loss: {:.4f} | Accuracy: {:.4f} | Precision: {:.4f} | Recall: {:.4f}\"  \n",
    "          .format(engine.state.epoch,                    \n",
    "                  metrics['avg_loss'],   \n",
    "                  metrics['avg_accuracy'],   \n",
    "                  metrics['avg_precision'],  \n",
    "                  metrics['avg_recall']))  \n",
    "@trainer.on(Events.EPOCH_COMPLETED) \n",
    "def compute_and_display_val_metrics(engine): \n",
    "    epoch = engine.state.epoch    \n",
    "    print(\"Compute validation metrics...\")  \n",
    "    metrics = val_evaluator.run(val_dataloader).metrics   \n",
    "    print(\"Validation Results - Epoch: {}  Average Loss: {:.4f} | Accuracy: {:.4f} | Precision: {:.4f} | Recall: {:.4f}\"  \n",
    "          .format(engine.state.epoch,                     \n",
    "                  metrics['avg_loss'],                   \n",
    "                  metrics['avg_accuracy'],                \n",
    "                  metrics['avg_precision'],     \n",
    "                  metrics['avg_recall'])) "
   ]
  },
  {
   "cell_type": "markdown",
   "id": "abfe0041",
   "metadata": {
    "cellId": "pmpcjokbgcqhlobc6ub5"
   },
   "source": [
    "Изменяем скорость обучения в начале каждой эпохи"
   ]
  },
  {
   "cell_type": "code",
   "execution_count": 56,
   "id": "b33bc510",
   "metadata": {
    "cellId": "cnlh3ik7a3h67728q92vys"
   },
   "outputs": [],
   "source": [
    "#!c1.8\n",
    "from torch.optim.lr_scheduler import ExponentialLR\n",
    "\n",
    "lr_scheduler = ExponentialLR(optimizer, gamma=0.8)\n",
    "\n",
    "@trainer.on(Events.EPOCH_STARTED)\n",
    "def update_lr_scheduler(engine):\n",
    "    lr_scheduler.step()\n",
    "    # Вывод значений скорости обучения:\n",
    "    if len(optimizer.param_groups) == 1:\n",
    "        lr = float(optimizer.param_groups[0]['lr'])\n",
    "        print(\"Learning rate: {}\".format(lr))\n",
    "    else:\n",
    "        for i, param_group in enumerate(optimizer.param_groups):\n",
    "            lr = float(param_group['lr'])\n",
    "            print(\"Learning rate (group {}): {}\".format(i, lr))"
   ]
  },
  {
   "cell_type": "markdown",
   "id": "3bc6bbc6",
   "metadata": {
    "cellId": "sbui8ljj88i8259j45n5ir"
   },
   "source": [
    "Сохраняем лучшую модель"
   ]
  },
  {
   "cell_type": "code",
   "execution_count": 57,
   "id": "aac57440",
   "metadata": {
    "cellId": "a22ld4k22x4hlcaxl9x91o"
   },
   "outputs": [
    {
     "data": {
      "text/plain": [
       "<ignite.engine.events.RemovableEventHandle at 0x7fe2a0ab8950>"
      ]
     },
     "metadata": {},
     "output_type": "display_data"
    }
   ],
   "source": [
    "#!c1.8\n",
    "from ignite.handlers import ModelCheckpoint\n",
    "\n",
    "def score_function(engine):\n",
    "    val_avg_accuracy = engine.state.metrics['avg_accuracy']\n",
    "    return val_avg_accuracy\n",
    "\n",
    "best_model_saver = ModelCheckpoint(\"models\",  \n",
    "                                   filename_prefix=\"model\",\n",
    "                                   score_name=\"val_accuracy\",  \n",
    "                                   score_function=score_function,\n",
    "                                   n_saved=3,\n",
    "                                   #save_as_state_dict=True,\n",
    "                                   create_dir=True,\n",
    "                                   require_empty=False)\n",
    "# \"best_models\" - Папка куда сохранять 1 или несколько лучших моделей\n",
    "# Имя файла -> {filename_prefix}_{name}_{step_number}_{score_name}={abs(score_function_result)}.pth\n",
    "# save_as_state_dict=True,  # Сохранять как `state_dict`\n",
    "\n",
    "val_evaluator.add_event_handler(Events.COMPLETED, \n",
    "                                best_model_saver, \n",
    "                                {\"best_model\": model})"
   ]
  },
  {
   "cell_type": "code",
   "execution_count": 58,
   "id": "840e8c02",
   "metadata": {
    "cellId": "7eqqlitni2ec073nxyc0h"
   },
   "outputs": [
    {
     "name": "stdout",
     "output_type": "stream",
     "text": [
      "Learning rate: 0.0008\n",
      "Compute train metrics...\n",
      "Training Results - Epoch: 1  Average Loss: 2.2462 | Accuracy: 0.1205 | Precision: 0.1834 | Recall: 0.1015\n",
      "Compute validation metrics...\n",
      "Validation Results - Epoch: 1  Average Loss: 2.2494 | Accuracy: 0.1132 | Precision: 0.1114 | Recall: 0.0995\n",
      "Learning rate: 0.00064\n",
      "Compute train metrics...\n",
      "Training Results - Epoch: 2  Average Loss: 2.2064 | Accuracy: 0.1233 | Precision: 0.3545 | Recall: 0.1052\n",
      "Compute validation metrics...\n",
      "Validation Results - Epoch: 2  Average Loss: 2.2173 | Accuracy: 0.1138 | Precision: 0.0347 | Recall: 0.1005\n",
      "Learning rate: 0.0005120000000000001\n",
      "Compute train metrics...\n",
      "Training Results - Epoch: 3  Average Loss: 2.1355 | Accuracy: 0.2020 | Precision: 0.2086 | Recall: 0.1802\n",
      "Compute validation metrics...\n",
      "Validation Results - Epoch: 3  Average Loss: 2.1833 | Accuracy: 0.1517 | Precision: 0.1361 | Recall: 0.1363\n",
      "Learning rate: 0.0004096000000000001\n",
      "Compute train metrics...\n",
      "Training Results - Epoch: 4  Average Loss: 1.9684 | Accuracy: 0.3002 | Precision: 0.3883 | Recall: 0.2643\n",
      "Compute validation metrics...\n",
      "Validation Results - Epoch: 4  Average Loss: 2.1135 | Accuracy: 0.1880 | Precision: 0.1573 | Recall: 0.1686\n",
      "Learning rate: 0.0003276800000000001\n",
      "Compute train metrics...\n",
      "Training Results - Epoch: 5  Average Loss: 1.6095 | Accuracy: 0.5031 | Precision: 0.5101 | Recall: 0.4521\n",
      "Compute validation metrics...\n",
      "Validation Results - Epoch: 5  Average Loss: 2.1762 | Accuracy: 0.1935 | Precision: 0.1621 | Recall: 0.1732\n",
      "Learning rate: 0.0002621440000000001\n",
      "Compute train metrics...\n",
      "Training Results - Epoch: 6  Average Loss: 1.1650 | Accuracy: 0.6604 | Precision: 0.6267 | Recall: 0.5911\n",
      "Compute validation metrics...\n",
      "Validation Results - Epoch: 6  Average Loss: 2.3843 | Accuracy: 0.1916 | Precision: 0.1655 | Recall: 0.1705\n",
      "Learning rate: 0.00020971520000000012\n",
      "Compute train metrics...\n",
      "Training Results - Epoch: 7  Average Loss: 0.9095 | Accuracy: 0.7645 | Precision: 0.7085 | Recall: 0.6888\n",
      "Compute validation metrics...\n",
      "Validation Results - Epoch: 7  Average Loss: 2.5542 | Accuracy: 0.1776 | Precision: 0.1571 | Recall: 0.1588\n",
      "Learning rate: 0.0001677721600000001\n",
      "Compute train metrics...\n",
      "Training Results - Epoch: 8  Average Loss: 0.5904 | Accuracy: 0.8566 | Precision: 0.7796 | Recall: 0.7702\n",
      "Compute validation metrics...\n",
      "Validation Results - Epoch: 8  Average Loss: 3.0463 | Accuracy: 0.1774 | Precision: 0.1542 | Recall: 0.1580\n",
      "Learning rate: 0.00013421772800000008\n",
      "Compute train metrics...\n",
      "Training Results - Epoch: 9  Average Loss: 0.4545 | Accuracy: 0.9021 | Precision: 0.8151 | Recall: 0.8113\n",
      "Compute validation metrics...\n",
      "Validation Results - Epoch: 9  Average Loss: 3.3993 | Accuracy: 0.1743 | Precision: 0.1545 | Recall: 0.1556\n",
      "Learning rate: 0.00010737418240000007\n",
      "Compute train metrics...\n",
      "Training Results - Epoch: 10  Average Loss: 0.3015 | Accuracy: 0.9375 | Precision: 0.8448 | Recall: 0.8437\n",
      "Compute validation metrics...\n",
      "Validation Results - Epoch: 10  Average Loss: 3.9621 | Accuracy: 0.1782 | Precision: 0.1570 | Recall: 0.1594\n",
      "Learning rate: 8.589934592000007e-05\n",
      "Compute train metrics...\n",
      "Training Results - Epoch: 11  Average Loss: 0.2482 | Accuracy: 0.9531 | Precision: 0.8585 | Recall: 0.8580\n",
      "Compute validation metrics...\n",
      "Validation Results - Epoch: 11  Average Loss: 4.1412 | Accuracy: 0.1807 | Precision: 0.1529 | Recall: 0.1616\n",
      "Learning rate: 6.871947673600006e-05\n",
      "Compute train metrics...\n",
      "Training Results - Epoch: 12  Average Loss: 0.2065 | Accuracy: 0.9640 | Precision: 0.8685 | Recall: 0.8678\n",
      "Compute validation metrics...\n",
      "Validation Results - Epoch: 12  Average Loss: 4.3173 | Accuracy: 0.1782 | Precision: 0.1570 | Recall: 0.1592\n",
      "Learning rate: 5.497558138880005e-05\n",
      "Compute train metrics...\n",
      "Training Results - Epoch: 13  Average Loss: 0.1440 | Accuracy: 0.9763 | Precision: 0.8786 | Recall: 0.8787\n",
      "Compute validation metrics...\n",
      "Validation Results - Epoch: 13  Average Loss: 4.8554 | Accuracy: 0.1776 | Precision: 0.1549 | Recall: 0.1589\n",
      "Learning rate: 4.3980465111040044e-05\n",
      "Compute train metrics...\n",
      "Training Results - Epoch: 14  Average Loss: 0.1332 | Accuracy: 0.9807 | Precision: 0.8828 | Recall: 0.8827\n",
      "Compute validation metrics...\n",
      "Validation Results - Epoch: 14  Average Loss: 4.9333 | Accuracy: 0.1726 | Precision: 0.1534 | Recall: 0.1545\n",
      "Learning rate: 3.5184372088832036e-05\n",
      "Compute train metrics...\n",
      "Training Results - Epoch: 15  Average Loss: 0.0963 | Accuracy: 0.9855 | Precision: 0.8868 | Recall: 0.8870\n",
      "Compute validation metrics...\n",
      "Validation Results - Epoch: 15  Average Loss: 5.4783 | Accuracy: 0.1712 | Precision: 0.1521 | Recall: 0.1532\n",
      "Learning rate: 2.814749767106563e-05\n",
      "Compute train metrics...\n",
      "Training Results - Epoch: 16  Average Loss: 0.1027 | Accuracy: 0.9855 | Precision: 0.8870 | Recall: 0.8870\n",
      "Compute validation metrics...\n",
      "Validation Results - Epoch: 16  Average Loss: 5.1700 | Accuracy: 0.1729 | Precision: 0.1520 | Recall: 0.1548\n",
      "Learning rate: 2.2517998136852506e-05\n",
      "Compute train metrics...\n",
      "Training Results - Epoch: 17  Average Loss: 0.0706 | Accuracy: 0.9911 | Precision: 0.8919 | Recall: 0.8920\n",
      "Compute validation metrics...\n",
      "Validation Results - Epoch: 17  Average Loss: 5.8752 | Accuracy: 0.1788 | Precision: 0.1543 | Recall: 0.1599\n",
      "Learning rate: 1.8014398509482006e-05\n",
      "Compute train metrics...\n",
      "Training Results - Epoch: 18  Average Loss: 0.0739 | Accuracy: 0.9908 | Precision: 0.8917 | Recall: 0.8917\n",
      "Compute validation metrics...\n",
      "Validation Results - Epoch: 18  Average Loss: 5.6783 | Accuracy: 0.1679 | Precision: 0.1525 | Recall: 0.1502\n",
      "Learning rate: 1.4411518807585605e-05\n",
      "Compute train metrics...\n",
      "Training Results - Epoch: 19  Average Loss: 0.0750 | Accuracy: 0.9914 | Precision: 0.8922 | Recall: 0.8922\n",
      "Compute validation metrics...\n",
      "Validation Results - Epoch: 19  Average Loss: 5.4739 | Accuracy: 0.1774 | Precision: 0.1556 | Recall: 0.1588\n",
      "Learning rate: 1.1529215046068485e-05\n",
      "Compute train metrics...\n",
      "Training Results - Epoch: 20  Average Loss: 0.0610 | Accuracy: 0.9925 | Precision: 0.8932 | Recall: 0.8932\n",
      "Compute validation metrics...\n",
      "Validation Results - Epoch: 20  Average Loss: 5.8902 | Accuracy: 0.1737 | Precision: 0.1516 | Recall: 0.1554\n",
      "Learning rate: 9.223372036854789e-06\n",
      "Compute train metrics...\n",
      "Training Results - Epoch: 21  Average Loss: 0.0567 | Accuracy: 0.9927 | Precision: 0.8934 | Recall: 0.8935\n",
      "Compute validation metrics...\n",
      "Validation Results - Epoch: 21  Average Loss: 6.0750 | Accuracy: 0.1754 | Precision: 0.1518 | Recall: 0.1569\n",
      "Learning rate: 7.378697629483831e-06\n",
      "Compute train metrics...\n",
      "Training Results - Epoch: 22  Average Loss: 0.0505 | Accuracy: 0.9927 | Precision: 0.8934 | Recall: 0.8935\n",
      "Compute validation metrics...\n",
      "Validation Results - Epoch: 22  Average Loss: 6.1958 | Accuracy: 0.1765 | Precision: 0.1519 | Recall: 0.1579\n",
      "Learning rate: 5.902958103587065e-06\n",
      "Compute train metrics...\n",
      "Training Results - Epoch: 23  Average Loss: 0.0563 | Accuracy: 0.9930 | Precision: 0.8937 | Recall: 0.8938\n",
      "Compute validation metrics...\n",
      "Validation Results - Epoch: 23  Average Loss: 5.8329 | Accuracy: 0.1751 | Precision: 0.1496 | Recall: 0.1565\n",
      "Learning rate: 4.722366482869652e-06\n",
      "Compute train metrics...\n",
      "Training Results - Epoch: 24  Average Loss: 0.0486 | Accuracy: 0.9933 | Precision: 0.8939 | Recall: 0.8940\n",
      "Compute validation metrics...\n",
      "Validation Results - Epoch: 24  Average Loss: 6.2328 | Accuracy: 0.1771 | Precision: 0.1520 | Recall: 0.1584\n",
      "Learning rate: 3.777893186295722e-06\n",
      "Compute train metrics...\n",
      "Training Results - Epoch: 25  Average Loss: 0.0516 | Accuracy: 0.9930 | Precision: 0.8938 | Recall: 0.8937\n",
      "Compute validation metrics...\n",
      "Validation Results - Epoch: 25  Average Loss: 5.9498 | Accuracy: 0.1782 | Precision: 0.1497 | Recall: 0.1594\n",
      "Learning rate: 3.022314549036578e-06\n",
      "Compute train metrics...\n",
      "Training Results - Epoch: 26  Average Loss: 0.0566 | Accuracy: 0.9927 | Precision: 0.8935 | Recall: 0.8935\n",
      "Compute validation metrics...\n",
      "Validation Results - Epoch: 26  Average Loss: 5.6657 | Accuracy: 0.1762 | Precision: 0.1525 | Recall: 0.1576\n",
      "Learning rate: 2.4178516392292624e-06\n",
      "Compute train metrics...\n",
      "Training Results - Epoch: 27  Average Loss: 0.0515 | Accuracy: 0.9930 | Precision: 0.8937 | Recall: 0.8938\n",
      "Compute validation metrics...\n",
      "Validation Results - Epoch: 27  Average Loss: 5.9483 | Accuracy: 0.1748 | Precision: 0.1500 | Recall: 0.1564\n",
      "Learning rate: 1.93428131138341e-06\n",
      "Compute train metrics...\n",
      "Training Results - Epoch: 28  Average Loss: 0.0466 | Accuracy: 0.9930 | Precision: 0.8937 | Recall: 0.8938\n",
      "Compute validation metrics...\n",
      "Validation Results - Epoch: 28  Average Loss: 6.3425 | Accuracy: 0.1721 | Precision: 0.1489 | Recall: 0.1539\n",
      "Learning rate: 1.547425049106728e-06\n",
      "Compute train metrics...\n",
      "Training Results - Epoch: 29  Average Loss: 0.0396 | Accuracy: 0.9936 | Precision: 0.8942 | Recall: 0.8943\n",
      "Compute validation metrics...\n",
      "Validation Results - Epoch: 29  Average Loss: 6.7834 | Accuracy: 0.1765 | Precision: 0.1508 | Recall: 0.1580\n",
      "Learning rate: 1.2379400392853825e-06\n",
      "Compute train metrics...\n",
      "Training Results - Epoch: 30  Average Loss: 0.0434 | Accuracy: 0.9930 | Precision: 0.8937 | Recall: 0.8937\n",
      "Compute validation metrics...\n",
      "Validation Results - Epoch: 30  Average Loss: 6.4779 | Accuracy: 0.1743 | Precision: 0.1529 | Recall: 0.1560\n",
      "Learning rate: 9.90352031428306e-07\n",
      "Compute train metrics...\n",
      "Training Results - Epoch: 31  Average Loss: 0.0468 | Accuracy: 0.9933 | Precision: 0.8939 | Recall: 0.8940\n",
      "Compute validation metrics...\n",
      "Validation Results - Epoch: 31  Average Loss: 6.1124 | Accuracy: 0.1712 | Precision: 0.1522 | Recall: 0.1532\n",
      "Learning rate: 7.922816251426449e-07\n",
      "Compute train metrics...\n",
      "Training Results - Epoch: 32  Average Loss: 0.0487 | Accuracy: 0.9930 | Precision: 0.8937 | Recall: 0.8937\n",
      "Compute validation metrics...\n",
      "Validation Results - Epoch: 32  Average Loss: 6.0188 | Accuracy: 0.1748 | Precision: 0.1538 | Recall: 0.1564\n",
      "Learning rate: 6.338253001141159e-07\n",
      "Compute train metrics...\n",
      "Training Results - Epoch: 33  Average Loss: 0.0561 | Accuracy: 0.9930 | Precision: 0.8937 | Recall: 0.8938\n",
      "Compute validation metrics...\n",
      "Validation Results - Epoch: 33  Average Loss: 5.6220 | Accuracy: 0.1757 | Precision: 0.1538 | Recall: 0.1572\n",
      "Learning rate: 5.070602400912927e-07\n",
      "Compute train metrics...\n",
      "Training Results - Epoch: 34  Average Loss: 0.0404 | Accuracy: 0.9930 | Precision: 0.8937 | Recall: 0.8937\n",
      "Compute validation metrics...\n",
      "Validation Results - Epoch: 34  Average Loss: 6.5824 | Accuracy: 0.1746 | Precision: 0.1513 | Recall: 0.1562\n",
      "Learning rate: 4.0564819207303424e-07\n",
      "Compute train metrics...\n",
      "Training Results - Epoch: 35  Average Loss: 0.0493 | Accuracy: 0.9930 | Precision: 0.8937 | Recall: 0.8937\n",
      "Compute validation metrics...\n",
      "Validation Results - Epoch: 35  Average Loss: 5.8901 | Accuracy: 0.1718 | Precision: 0.1500 | Recall: 0.1537\n",
      "Learning rate: 3.245185536584274e-07\n",
      "Compute train metrics...\n",
      "Training Results - Epoch: 36  Average Loss: 0.0439 | Accuracy: 0.9933 | Precision: 0.8939 | Recall: 0.8940\n",
      "Compute validation metrics...\n",
      "Validation Results - Epoch: 36  Average Loss: 6.3003 | Accuracy: 0.1693 | Precision: 0.1509 | Recall: 0.1515\n",
      "Learning rate: 2.5961484292674195e-07\n",
      "Compute train metrics...\n",
      "Training Results - Epoch: 37  Average Loss: 0.0433 | Accuracy: 0.9930 | Precision: 0.8937 | Recall: 0.8937\n",
      "Compute validation metrics...\n",
      "Validation Results - Epoch: 37  Average Loss: 6.2592 | Accuracy: 0.1737 | Precision: 0.1512 | Recall: 0.1554\n",
      "Learning rate: 2.0769187434139356e-07\n",
      "Compute train metrics...\n",
      "Training Results - Epoch: 38  Average Loss: 0.0467 | Accuracy: 0.9933 | Precision: 0.8940 | Recall: 0.8940\n",
      "Compute validation metrics...\n",
      "Validation Results - Epoch: 38  Average Loss: 5.9680 | Accuracy: 0.1740 | Precision: 0.1529 | Recall: 0.1556\n",
      "Learning rate: 1.6615349947311486e-07\n",
      "Compute train metrics...\n",
      "Training Results - Epoch: 39  Average Loss: 0.0410 | Accuracy: 0.9930 | Precision: 0.8937 | Recall: 0.8937\n",
      "Compute validation metrics...\n",
      "Validation Results - Epoch: 39  Average Loss: 6.5098 | Accuracy: 0.1760 | Precision: 0.1500 | Recall: 0.1574\n",
      "Learning rate: 1.329227995784919e-07\n",
      "Compute train metrics...\n",
      "Training Results - Epoch: 40  Average Loss: 0.0442 | Accuracy: 0.9933 | Precision: 0.8939 | Recall: 0.8940\n",
      "Compute validation metrics...\n",
      "Validation Results - Epoch: 40  Average Loss: 6.5010 | Accuracy: 0.1709 | Precision: 0.1492 | Recall: 0.1529\n",
      "Learning rate: 1.0633823966279352e-07\n",
      "Compute train metrics...\n",
      "Training Results - Epoch: 41  Average Loss: 0.0442 | Accuracy: 0.9930 | Precision: 0.8937 | Recall: 0.8937\n",
      "Compute validation metrics...\n",
      "Validation Results - Epoch: 41  Average Loss: 6.1949 | Accuracy: 0.1774 | Precision: 0.1546 | Recall: 0.1587\n",
      "Learning rate: 8.507059173023481e-08\n",
      "Compute train metrics...\n",
      "Training Results - Epoch: 42  Average Loss: 0.0501 | Accuracy: 0.9933 | Precision: 0.8939 | Recall: 0.8940\n",
      "Compute validation metrics...\n",
      "Validation Results - Epoch: 42  Average Loss: 5.8872 | Accuracy: 0.1735 | Precision: 0.1493 | Recall: 0.1551\n",
      "Learning rate: 6.805647338418785e-08\n",
      "Compute train metrics...\n",
      "Training Results - Epoch: 43  Average Loss: 0.0426 | Accuracy: 0.9933 | Precision: 0.8939 | Recall: 0.8940\n",
      "Compute validation metrics...\n",
      "Validation Results - Epoch: 43  Average Loss: 6.3779 | Accuracy: 0.1751 | Precision: 0.1499 | Recall: 0.1567\n",
      "Learning rate: 5.4445178707350285e-08\n",
      "Compute train metrics...\n",
      "Training Results - Epoch: 44  Average Loss: 0.0413 | Accuracy: 0.9939 | Precision: 0.8944 | Recall: 0.8945\n",
      "Compute validation metrics...\n",
      "Validation Results - Epoch: 44  Average Loss: 6.4614 | Accuracy: 0.1740 | Precision: 0.1502 | Recall: 0.1558\n",
      "Learning rate: 4.355614296588023e-08\n",
      "Compute train metrics...\n",
      "Training Results - Epoch: 45  Average Loss: 0.0423 | Accuracy: 0.9933 | Precision: 0.8939 | Recall: 0.8940\n",
      "Compute validation metrics...\n",
      "Validation Results - Epoch: 45  Average Loss: 6.5160 | Accuracy: 0.1723 | Precision: 0.1484 | Recall: 0.1542\n",
      "Learning rate: 3.484491437270418e-08\n",
      "Compute train metrics...\n",
      "Training Results - Epoch: 46  Average Loss: 0.0402 | Accuracy: 0.9933 | Precision: 0.8940 | Recall: 0.8940\n",
      "Compute validation metrics...\n",
      "Validation Results - Epoch: 46  Average Loss: 6.6022 | Accuracy: 0.1740 | Precision: 0.1473 | Recall: 0.1556\n",
      "Learning rate: 2.787593149816335e-08\n",
      "Compute train metrics...\n",
      "Training Results - Epoch: 47  Average Loss: 0.0482 | Accuracy: 0.9936 | Precision: 0.8942 | Recall: 0.8943\n",
      "Compute validation metrics...\n",
      "Validation Results - Epoch: 47  Average Loss: 6.0695 | Accuracy: 0.1715 | Precision: 0.1524 | Recall: 0.1534\n",
      "Learning rate: 2.230074519853068e-08\n",
      "Compute train metrics...\n",
      "Training Results - Epoch: 48  Average Loss: 0.0375 | Accuracy: 0.9930 | Precision: 0.8937 | Recall: 0.8937\n",
      "Compute validation metrics...\n",
      "Validation Results - Epoch: 48  Average Loss: 6.7738 | Accuracy: 0.1721 | Precision: 0.1523 | Recall: 0.1539\n",
      "Learning rate: 1.7840596158824545e-08\n",
      "Compute train metrics...\n",
      "Training Results - Epoch: 49  Average Loss: 0.0452 | Accuracy: 0.9933 | Precision: 0.8939 | Recall: 0.8940\n",
      "Compute validation metrics...\n",
      "Validation Results - Epoch: 49  Average Loss: 6.1432 | Accuracy: 0.1743 | Precision: 0.1506 | Recall: 0.1559\n",
      "Learning rate: 1.4272476927059637e-08\n",
      "Compute train metrics...\n",
      "Training Results - Epoch: 50  Average Loss: 0.0404 | Accuracy: 0.9930 | Precision: 0.8937 | Recall: 0.8937\n",
      "Compute validation metrics...\n",
      "Validation Results - Epoch: 50  Average Loss: 6.5356 | Accuracy: 0.1712 | Precision: 0.1499 | Recall: 0.1532\n",
      "Learning rate: 1.1417981541647711e-08\n",
      "Compute train metrics...\n",
      "Training Results - Epoch: 51  Average Loss: 0.0463 | Accuracy: 0.9933 | Precision: 0.8939 | Recall: 0.8940\n",
      "Compute validation metrics...\n",
      "Validation Results - Epoch: 51  Average Loss: 6.2012 | Accuracy: 0.1721 | Precision: 0.1495 | Recall: 0.1540\n",
      "Learning rate: 9.13438523331817e-09\n",
      "Compute train metrics...\n",
      "Training Results - Epoch: 52  Average Loss: 0.0429 | Accuracy: 0.9930 | Precision: 0.8937 | Recall: 0.8937\n",
      "Compute validation metrics...\n",
      "Validation Results - Epoch: 52  Average Loss: 6.3889 | Accuracy: 0.1712 | Precision: 0.1500 | Recall: 0.1533\n",
      "Learning rate: 7.307508186654536e-09\n",
      "Compute train metrics...\n",
      "Training Results - Epoch: 53  Average Loss: 0.0420 | Accuracy: 0.9930 | Precision: 0.8937 | Recall: 0.8937\n",
      "Compute validation metrics...\n",
      "Validation Results - Epoch: 53  Average Loss: 6.3721 | Accuracy: 0.1726 | Precision: 0.1506 | Recall: 0.1544\n",
      "Learning rate: 5.84600654932363e-09\n",
      "Compute train metrics...\n",
      "Training Results - Epoch: 54  Average Loss: 0.0562 | Accuracy: 0.9930 | Precision: 0.8937 | Recall: 0.8938\n",
      "Compute validation metrics...\n",
      "Validation Results - Epoch: 54  Average Loss: 5.6808 | Accuracy: 0.1754 | Precision: 0.1494 | Recall: 0.1569\n",
      "Learning rate: 4.676805239458904e-09\n",
      "Compute train metrics...\n",
      "Training Results - Epoch: 55  Average Loss: 0.0442 | Accuracy: 0.9930 | Precision: 0.8937 | Recall: 0.8937\n",
      "Compute validation metrics...\n",
      "Validation Results - Epoch: 55  Average Loss: 6.2251 | Accuracy: 0.1718 | Precision: 0.1508 | Recall: 0.1537\n",
      "Learning rate: 3.741444191567124e-09\n",
      "Compute train metrics...\n",
      "Training Results - Epoch: 56  Average Loss: 0.0496 | Accuracy: 0.9939 | Precision: 0.8944 | Recall: 0.8945\n",
      "Compute validation metrics...\n",
      "Validation Results - Epoch: 56  Average Loss: 5.8597 | Accuracy: 0.1754 | Precision: 0.1521 | Recall: 0.1569\n",
      "Learning rate: 2.9931553532536994e-09\n",
      "Compute train metrics...\n",
      "Training Results - Epoch: 57  Average Loss: 0.0483 | Accuracy: 0.9933 | Precision: 0.8939 | Recall: 0.8940\n",
      "Compute validation metrics...\n",
      "Validation Results - Epoch: 57  Average Loss: 5.9586 | Accuracy: 0.1721 | Precision: 0.1508 | Recall: 0.1539\n",
      "Learning rate: 2.3945242826029597e-09\n",
      "Compute train metrics...\n",
      "Training Results - Epoch: 58  Average Loss: 0.0452 | Accuracy: 0.9930 | Precision: 0.8937 | Recall: 0.8937\n",
      "Compute validation metrics...\n",
      "Validation Results - Epoch: 58  Average Loss: 6.1196 | Accuracy: 0.1751 | Precision: 0.1500 | Recall: 0.1567\n",
      "Learning rate: 1.9156194260823678e-09\n",
      "Compute train metrics...\n",
      "Training Results - Epoch: 59  Average Loss: 0.0428 | Accuracy: 0.9933 | Precision: 0.8939 | Recall: 0.8940\n",
      "Compute validation metrics...\n",
      "Validation Results - Epoch: 59  Average Loss: 6.3766 | Accuracy: 0.1726 | Precision: 0.1513 | Recall: 0.1545\n",
      "Learning rate: 1.5324955408658943e-09\n",
      "Compute train metrics...\n",
      "Training Results - Epoch: 60  Average Loss: 0.0506 | Accuracy: 0.9933 | Precision: 0.8939 | Recall: 0.8940\n",
      "Compute validation metrics...\n",
      "Validation Results - Epoch: 60  Average Loss: 6.0095 | Accuracy: 0.1732 | Precision: 0.1527 | Recall: 0.1550\n",
      "Learning rate: 1.2259964326927156e-09\n",
      "Compute train metrics...\n",
      "Training Results - Epoch: 61  Average Loss: 0.0472 | Accuracy: 0.9933 | Precision: 0.8939 | Recall: 0.8940\n",
      "Compute validation metrics...\n",
      "Validation Results - Epoch: 61  Average Loss: 6.1472 | Accuracy: 0.1709 | Precision: 0.1504 | Recall: 0.1530\n",
      "Learning rate: 9.807971461541725e-10\n",
      "Compute train metrics...\n",
      "Training Results - Epoch: 62  Average Loss: 0.0423 | Accuracy: 0.9933 | Precision: 0.8939 | Recall: 0.8940\n",
      "Compute validation metrics...\n",
      "Validation Results - Epoch: 62  Average Loss: 6.3838 | Accuracy: 0.1768 | Precision: 0.1524 | Recall: 0.1582\n",
      "Learning rate: 7.846377169233381e-10\n",
      "Compute train metrics...\n",
      "Training Results - Epoch: 63  Average Loss: 0.0412 | Accuracy: 0.9933 | Precision: 0.8939 | Recall: 0.8940\n",
      "Compute validation metrics...\n",
      "Validation Results - Epoch: 63  Average Loss: 6.4899 | Accuracy: 0.1735 | Precision: 0.1484 | Recall: 0.1552\n",
      "Learning rate: 6.277101735386705e-10\n",
      "Compute train metrics...\n",
      "Training Results - Epoch: 64  Average Loss: 0.0470 | Accuracy: 0.9930 | Precision: 0.8937 | Recall: 0.8937\n",
      "Compute validation metrics...\n",
      "Validation Results - Epoch: 64  Average Loss: 6.0433 | Accuracy: 0.1709 | Precision: 0.1523 | Recall: 0.1530\n",
      "Learning rate: 5.021681388309365e-10\n",
      "Compute train metrics...\n",
      "Training Results - Epoch: 65  Average Loss: 0.0476 | Accuracy: 0.9930 | Precision: 0.8937 | Recall: 0.8937\n",
      "Compute validation metrics...\n",
      "Validation Results - Epoch: 65  Average Loss: 6.0090 | Accuracy: 0.1746 | Precision: 0.1517 | Recall: 0.1562\n",
      "Learning rate: 4.017345110647492e-10\n",
      "Compute train metrics...\n",
      "Training Results - Epoch: 66  Average Loss: 0.0504 | Accuracy: 0.9930 | Precision: 0.8937 | Recall: 0.8938\n",
      "Compute validation metrics...\n",
      "Validation Results - Epoch: 66  Average Loss: 5.9769 | Accuracy: 0.1735 | Precision: 0.1519 | Recall: 0.1552\n",
      "Learning rate: 3.213876088517994e-10\n",
      "Compute train metrics...\n",
      "Training Results - Epoch: 67  Average Loss: 0.0521 | Accuracy: 0.9933 | Precision: 0.8939 | Recall: 0.8940\n",
      "Compute validation metrics...\n",
      "Validation Results - Epoch: 67  Average Loss: 5.8405 | Accuracy: 0.1721 | Precision: 0.1513 | Recall: 0.1540\n",
      "Learning rate: 2.571100870814395e-10\n",
      "Compute train metrics...\n",
      "Training Results - Epoch: 68  Average Loss: 0.0455 | Accuracy: 0.9930 | Precision: 0.8937 | Recall: 0.8937\n",
      "Compute validation metrics...\n",
      "Validation Results - Epoch: 68  Average Loss: 6.1568 | Accuracy: 0.1723 | Precision: 0.1523 | Recall: 0.1542\n",
      "Learning rate: 2.0568806966515163e-10\n",
      "Compute train metrics...\n",
      "Training Results - Epoch: 69  Average Loss: 0.0516 | Accuracy: 0.9933 | Precision: 0.8939 | Recall: 0.8940\n",
      "Compute validation metrics...\n",
      "Validation Results - Epoch: 69  Average Loss: 5.7709 | Accuracy: 0.1737 | Precision: 0.1538 | Recall: 0.1555\n",
      "Learning rate: 1.645504557321213e-10\n",
      "Compute train metrics...\n",
      "Training Results - Epoch: 70  Average Loss: 0.0491 | Accuracy: 0.9930 | Precision: 0.8937 | Recall: 0.8937\n",
      "Compute validation metrics...\n",
      "Validation Results - Epoch: 70  Average Loss: 5.8631 | Accuracy: 0.1726 | Precision: 0.1503 | Recall: 0.1544\n",
      "Learning rate: 1.3164036458569705e-10\n",
      "Compute train metrics...\n",
      "Training Results - Epoch: 71  Average Loss: 0.0484 | Accuracy: 0.9933 | Precision: 0.8939 | Recall: 0.8940\n",
      "Compute validation metrics...\n",
      "Validation Results - Epoch: 71  Average Loss: 5.9678 | Accuracy: 0.1693 | Precision: 0.1521 | Recall: 0.1515\n",
      "Learning rate: 1.0531229166855765e-10\n",
      "Compute train metrics...\n",
      "Training Results - Epoch: 72  Average Loss: 0.0419 | Accuracy: 0.9933 | Precision: 0.8939 | Recall: 0.8940\n",
      "Compute validation metrics...\n",
      "Validation Results - Epoch: 72  Average Loss: 6.5039 | Accuracy: 0.1732 | Precision: 0.1512 | Recall: 0.1549\n",
      "Learning rate: 8.424983333484612e-11\n",
      "Compute train metrics...\n",
      "Training Results - Epoch: 73  Average Loss: 0.0459 | Accuracy: 0.9933 | Precision: 0.8939 | Recall: 0.8940\n",
      "Compute validation metrics...\n",
      "Validation Results - Epoch: 73  Average Loss: 6.1581 | Accuracy: 0.1687 | Precision: 0.1476 | Recall: 0.1510\n",
      "Learning rate: 6.739986666787689e-11\n",
      "Compute train metrics...\n",
      "Training Results - Epoch: 74  Average Loss: 0.0428 | Accuracy: 0.9936 | Precision: 0.8942 | Recall: 0.8943\n",
      "Compute validation metrics...\n",
      "Validation Results - Epoch: 74  Average Loss: 6.3125 | Accuracy: 0.1762 | Precision: 0.1537 | Recall: 0.1577\n",
      "Learning rate: 5.391989333430152e-11\n",
      "Compute train metrics...\n",
      "Training Results - Epoch: 75  Average Loss: 0.0412 | Accuracy: 0.9936 | Precision: 0.8942 | Recall: 0.8943\n",
      "Compute validation metrics...\n",
      "Validation Results - Epoch: 75  Average Loss: 6.4569 | Accuracy: 0.1760 | Precision: 0.1493 | Recall: 0.1573\n",
      "Learning rate: 4.313591466744122e-11\n",
      "Compute train metrics...\n",
      "Training Results - Epoch: 76  Average Loss: 0.0413 | Accuracy: 0.9933 | Precision: 0.8939 | Recall: 0.8940\n",
      "Compute validation metrics...\n",
      "Validation Results - Epoch: 76  Average Loss: 6.4540 | Accuracy: 0.1746 | Precision: 0.1523 | Recall: 0.1562\n",
      "Learning rate: 3.450873173395297e-11\n",
      "Compute train metrics...\n",
      "Training Results - Epoch: 77  Average Loss: 0.0472 | Accuracy: 0.9933 | Precision: 0.8939 | Recall: 0.8940\n",
      "Compute validation metrics...\n",
      "Validation Results - Epoch: 77  Average Loss: 5.9698 | Accuracy: 0.1709 | Precision: 0.1511 | Recall: 0.1530\n",
      "Learning rate: 2.760698538716238e-11\n",
      "Compute train metrics...\n",
      "Training Results - Epoch: 78  Average Loss: 0.0458 | Accuracy: 0.9930 | Precision: 0.8937 | Recall: 0.8937\n",
      "Compute validation metrics...\n",
      "Validation Results - Epoch: 78  Average Loss: 6.1719 | Accuracy: 0.1743 | Precision: 0.1499 | Recall: 0.1559\n",
      "Learning rate: 2.2085588309729907e-11\n",
      "Compute train metrics...\n",
      "Training Results - Epoch: 79  Average Loss: 0.0449 | Accuracy: 0.9930 | Precision: 0.8937 | Recall: 0.8937\n",
      "Compute validation metrics...\n",
      "Validation Results - Epoch: 79  Average Loss: 6.1537 | Accuracy: 0.1765 | Precision: 0.1555 | Recall: 0.1579\n",
      "Learning rate: 1.7668470647783928e-11\n",
      "Compute train metrics...\n",
      "Training Results - Epoch: 80  Average Loss: 0.0451 | Accuracy: 0.9933 | Precision: 0.8939 | Recall: 0.8940\n",
      "Compute validation metrics...\n",
      "Validation Results - Epoch: 80  Average Loss: 6.2140 | Accuracy: 0.1707 | Precision: 0.1484 | Recall: 0.1527\n",
      "Learning rate: 1.4134776518227143e-11\n",
      "Compute train metrics...\n",
      "Training Results - Epoch: 81  Average Loss: 0.0411 | Accuracy: 0.9933 | Precision: 0.8939 | Recall: 0.8940\n",
      "Compute validation metrics...\n",
      "Validation Results - Epoch: 81  Average Loss: 6.4462 | Accuracy: 0.1762 | Precision: 0.1516 | Recall: 0.1576\n",
      "Learning rate: 1.1307821214581714e-11\n",
      "Compute train metrics...\n",
      "Training Results - Epoch: 82  Average Loss: 0.0421 | Accuracy: 0.9933 | Precision: 0.8939 | Recall: 0.8940\n",
      "Compute validation metrics...\n",
      "Validation Results - Epoch: 82  Average Loss: 6.4175 | Accuracy: 0.1718 | Precision: 0.1515 | Recall: 0.1537\n",
      "Learning rate: 9.046256971665372e-12\n",
      "Compute train metrics...\n",
      "Training Results - Epoch: 83  Average Loss: 0.0485 | Accuracy: 0.9936 | Precision: 0.8942 | Recall: 0.8942\n",
      "Compute validation metrics...\n",
      "Validation Results - Epoch: 83  Average Loss: 5.9349 | Accuracy: 0.1735 | Precision: 0.1510 | Recall: 0.1552\n",
      "Learning rate: 7.237005577332298e-12\n",
      "Compute train metrics...\n",
      "Training Results - Epoch: 84  Average Loss: 0.0435 | Accuracy: 0.9933 | Precision: 0.8939 | Recall: 0.8940\n",
      "Compute validation metrics...\n",
      "Validation Results - Epoch: 84  Average Loss: 6.2855 | Accuracy: 0.1768 | Precision: 0.1530 | Recall: 0.1582\n",
      "Learning rate: 5.7896044618658385e-12\n",
      "Compute train metrics...\n",
      "Training Results - Epoch: 85  Average Loss: 0.0498 | Accuracy: 0.9930 | Precision: 0.8937 | Recall: 0.8937\n",
      "Compute validation metrics...\n",
      "Validation Results - Epoch: 85  Average Loss: 5.8309 | Accuracy: 0.1779 | Precision: 0.1511 | Recall: 0.1591\n",
      "Learning rate: 4.6316835694926714e-12\n",
      "Compute train metrics...\n",
      "Training Results - Epoch: 86  Average Loss: 0.0439 | Accuracy: 0.9930 | Precision: 0.8937 | Recall: 0.8937\n",
      "Compute validation metrics...\n",
      "Validation Results - Epoch: 86  Average Loss: 6.2552 | Accuracy: 0.1732 | Precision: 0.1537 | Recall: 0.1549\n",
      "Learning rate: 3.705346855594138e-12\n",
      "Compute train metrics...\n",
      "Training Results - Epoch: 87  Average Loss: 0.0435 | Accuracy: 0.9933 | Precision: 0.8939 | Recall: 0.8940\n",
      "Compute validation metrics...\n",
      "Validation Results - Epoch: 87  Average Loss: 6.3471 | Accuracy: 0.1693 | Precision: 0.1501 | Recall: 0.1515\n",
      "Learning rate: 2.9642774844753104e-12\n",
      "Compute train metrics...\n",
      "Training Results - Epoch: 88  Average Loss: 0.0490 | Accuracy: 0.9930 | Precision: 0.8937 | Recall: 0.8938\n",
      "Compute validation metrics...\n",
      "Validation Results - Epoch: 88  Average Loss: 6.1052 | Accuracy: 0.1718 | Precision: 0.1502 | Recall: 0.1537\n",
      "Learning rate: 2.3714219875802486e-12\n",
      "Compute train metrics...\n",
      "Training Results - Epoch: 89  Average Loss: 0.0421 | Accuracy: 0.9933 | Precision: 0.8939 | Recall: 0.8940\n",
      "Compute validation metrics...\n",
      "Validation Results - Epoch: 89  Average Loss: 6.3606 | Accuracy: 0.1726 | Precision: 0.1503 | Recall: 0.1545\n",
      "Learning rate: 1.897137590064199e-12\n",
      "Compute train metrics...\n",
      "Training Results - Epoch: 90  Average Loss: 0.0522 | Accuracy: 0.9930 | Precision: 0.8937 | Recall: 0.8938\n",
      "Compute validation metrics...\n",
      "Validation Results - Epoch: 90  Average Loss: 5.7573 | Accuracy: 0.1746 | Precision: 0.1539 | Recall: 0.1562\n",
      "Learning rate: 1.5177100720513593e-12\n",
      "Compute train metrics...\n",
      "Training Results - Epoch: 91  Average Loss: 0.0411 | Accuracy: 0.9933 | Precision: 0.8939 | Recall: 0.8940\n",
      "Compute validation metrics...\n",
      "Validation Results - Epoch: 91  Average Loss: 6.4980 | Accuracy: 0.1718 | Precision: 0.1512 | Recall: 0.1537\n",
      "Learning rate: 1.2141680576410875e-12\n",
      "Compute train metrics...\n",
      "Training Results - Epoch: 92  Average Loss: 0.0430 | Accuracy: 0.9933 | Precision: 0.8939 | Recall: 0.8940\n",
      "Compute validation metrics...\n",
      "Validation Results - Epoch: 92  Average Loss: 6.3352 | Accuracy: 0.1732 | Precision: 0.1494 | Recall: 0.1550\n",
      "Learning rate: 9.7133444611287e-13\n",
      "Compute train metrics...\n",
      "Training Results - Epoch: 93  Average Loss: 0.0430 | Accuracy: 0.9936 | Precision: 0.8942 | Recall: 0.8943\n",
      "Compute validation metrics...\n",
      "Validation Results - Epoch: 93  Average Loss: 6.3046 | Accuracy: 0.1712 | Precision: 0.1515 | Recall: 0.1533\n",
      "Learning rate: 7.770675568902961e-13\n",
      "Compute train metrics...\n",
      "Training Results - Epoch: 94  Average Loss: 0.0398 | Accuracy: 0.9933 | Precision: 0.8939 | Recall: 0.8940\n",
      "Compute validation metrics...\n",
      "Validation Results - Epoch: 94  Average Loss: 6.5349 | Accuracy: 0.1737 | Precision: 0.1489 | Recall: 0.1553\n",
      "Learning rate: 6.216540455122369e-13\n",
      "Compute train metrics...\n",
      "Training Results - Epoch: 95  Average Loss: 0.0420 | Accuracy: 0.9933 | Precision: 0.8939 | Recall: 0.8940\n",
      "Compute validation metrics...\n",
      "Validation Results - Epoch: 95  Average Loss: 6.3424 | Accuracy: 0.1709 | Precision: 0.1503 | Recall: 0.1530\n",
      "Learning rate: 4.973232364097896e-13\n",
      "Compute train metrics...\n",
      "Training Results - Epoch: 96  Average Loss: 0.0408 | Accuracy: 0.9933 | Precision: 0.8939 | Recall: 0.8940\n",
      "Compute validation metrics...\n",
      "Validation Results - Epoch: 96  Average Loss: 6.6480 | Accuracy: 0.1679 | Precision: 0.1495 | Recall: 0.1503\n",
      "Learning rate: 3.978585891278317e-13\n",
      "Compute train metrics...\n",
      "Training Results - Epoch: 97  Average Loss: 0.0451 | Accuracy: 0.9933 | Precision: 0.8939 | Recall: 0.8940\n",
      "Compute validation metrics...\n",
      "Validation Results - Epoch: 97  Average Loss: 6.2144 | Accuracy: 0.1729 | Precision: 0.1491 | Recall: 0.1547\n",
      "Learning rate: 3.182868713022654e-13\n",
      "Compute train metrics...\n",
      "Training Results - Epoch: 98  Average Loss: 0.0417 | Accuracy: 0.9939 | Precision: 0.8944 | Recall: 0.8945\n",
      "Compute validation metrics...\n",
      "Validation Results - Epoch: 98  Average Loss: 6.4137 | Accuracy: 0.1737 | Precision: 0.1499 | Recall: 0.1555\n",
      "Learning rate: 2.546294970418123e-13\n",
      "Compute train metrics...\n",
      "Training Results - Epoch: 99  Average Loss: 0.0487 | Accuracy: 0.9933 | Precision: 0.8939 | Recall: 0.8940\n",
      "Compute validation metrics...\n",
      "Validation Results - Epoch: 99  Average Loss: 5.9286 | Accuracy: 0.1748 | Precision: 0.1532 | Recall: 0.1565\n",
      "Learning rate: 2.0370359763344986e-13\n",
      "Compute train metrics...\n",
      "Training Results - Epoch: 100  Average Loss: 0.0644 | Accuracy: 0.9927 | Precision: 0.8934 | Recall: 0.8935\n",
      "Compute validation metrics...\n",
      "Validation Results - Epoch: 100  Average Loss: 5.3139 | Accuracy: 0.1762 | Precision: 0.1499 | Recall: 0.1576\n"
     ]
    }
   ],
   "source": [
    "#!c1.8\n",
    "output = trainer.run(train_dataloader, max_epochs=100)"
   ]
  },
  {
   "cell_type": "markdown",
   "id": "583aa56c",
   "metadata": {
    "cellId": "i8ptp1fterf1qstqbksf67"
   },
   "source": [
    "Ранняя остановка обучения если не будет улучшений на протяжении 10 эпох "
   ]
  },
  {
   "cell_type": "code",
   "execution_count": null,
   "id": "8e49f4a1",
   "metadata": {
    "cellId": "hhchkzxt4tz9inwt3ngic"
   },
   "outputs": [],
   "source": [
    "#!c1.8\n",
    "from ignite.handlers import EarlyStopping\n",
    "\n",
    "early_stopping = EarlyStopping(patience=10, \n",
    "                              score_function=score_function, \n",
    "                              trainer=trainer)\n",
    "\n",
    "val_evaluator.add_event_handler(Events.EPOCH_COMPLETED, early_stopping)"
   ]
  },
  {
   "cell_type": "code",
   "execution_count": 234,
   "id": "de758ea1",
   "metadata": {
    "cellId": "4nb8kiq8wf7amy2pws5a2"
   },
   "outputs": [],
   "source": [
    "#!c1.8\n",
    "from tqdm import tqdm\n",
    "def train(net, n_epoch):\n",
    "    device = torch.device('cuda:0' if torch.cuda.is_available() else 'cpu')\n",
    "    net = net.to(device)\n",
    "    loss = torch.nn.CrossEntropyLoss()\n",
    "    optimizer = torch.optim.Adam(net.parameters(), lr=1.0e-3)\n",
    "    \n",
    "    test_accuracy_history = []\n",
    "    test_loss_history = []\n",
    "\n",
    "    for epoch in range(n_epoch):\n",
    "        \n",
    "        for phase in ['train', 'val']:\n",
    "            if phase == 'train':\n",
    "                dataloader = train_dataloader\n",
    "                #scheduler.step()\n",
    "                net.train()  # Set model to training mode\n",
    "            else:\n",
    "                dataloader = val_dataloader\n",
    "                net.eval() \n",
    "                \n",
    "            running_loss = 0.\n",
    "            running_acc = 0.\n",
    "                \n",
    "            for inputs, labels in tqdm(dataloader):\n",
    "                inputs = inputs.to(device)\n",
    "                labels = labels.to(device)\n",
    "                \n",
    "                labels = labels - 1\n",
    "\n",
    "                optimizer.zero_grad()\n",
    "                with torch.set_grad_enabled(phase == 'train'):\n",
    "                    preds = net.forward(inputs)\n",
    "                    loss_value = loss(preds, labels)\n",
    "                    preds_class = preds.argmax(dim=1)\n",
    "                    \n",
    "                    if phase == 'train':\n",
    "                        loss_value.backward()\n",
    "                        optimizer.step()\n",
    "                        \n",
    "                    if phase == 'val':\n",
    "                        test_preds = net.forward(inputs)\n",
    "                        test_loss_history.append(loss(inputs, labels).data.cpu())\n",
    "\n",
    "                        accuracy = (test_preds.argmax(dim=1) == labels).float().mean().data.cpu()\n",
    "                        test_accuracy_history.append(accuracy)\n",
    "                \n",
    "                running_loss += loss_value.item()\n",
    "                running_acc += (preds_class == labels.data).float().mean()\n",
    "                \n",
    "            epoch_loss = running_loss / len(dataloader)\n",
    "            epoch_acc = running_acc / len(dataloader)\n",
    "            \n",
    "            print('{} Loss: {:.4f} Acc: {:.4f}'.format(phase, epoch_loss, epoch_acc), flush=True)\n",
    "    return test_loss_history, test_accuracy_history"
   ]
  },
  {
   "cell_type": "code",
   "execution_count": 235,
   "id": "63946424",
   "metadata": {
    "cellId": "d9zpt7zehnotzwmfsh3tbi"
   },
   "outputs": [
    {
     "name": "stdout",
     "output_type": "stream",
     "text": [
      "train Loss: 4.0008 Acc: 0.1187\n"
     ]
    },
    {
     "name": "stderr",
     "output_type": "stream",
     "text": [
      "100%|██████████| 1457/1457 [02:26<00:00,  9.96it/s]\n",
      "  0%|          | 0/449 [00:00<?, ?it/s]\n"
     ]
    },
    {
     "ename": "RuntimeError",
     "evalue": "only batches of spatial targets supported (3D tensors) but got targets of dimension: 1",
     "output_type": "error",
     "traceback": [
      "\u001b[0;31m---------------------------------------------------------------------------\u001b[0m",
      "\u001b[0;31mRuntimeError\u001b[0m                              Traceback (most recent call last)",
      "\u001b[0;32m<ipython-input-33-f3218110316b>\u001b[0m in \u001b[0;36m<module>\u001b[0;34m\u001b[0m\n\u001b[1;32m      1\u001b[0m \u001b[0mnetwork\u001b[0m \u001b[0;34m=\u001b[0m \u001b[0mLeNet\u001b[0m\u001b[0;34m(\u001b[0m\u001b[0;34m)\u001b[0m\u001b[0;34m\u001b[0m\u001b[0;34m\u001b[0m\u001b[0m\n\u001b[1;32m      2\u001b[0m \u001b[0;34m\u001b[0m\u001b[0m\n\u001b[0;32m----> 3\u001b[0;31m \u001b[0mtest_loss_history\u001b[0m\u001b[0;34m,\u001b[0m \u001b[0mtest_accuracy_history\u001b[0m \u001b[0;34m=\u001b[0m \u001b[0mtrain\u001b[0m\u001b[0;34m(\u001b[0m\u001b[0mnetwork\u001b[0m\u001b[0;34m,\u001b[0m \u001b[0;36m15\u001b[0m\u001b[0;34m)\u001b[0m\u001b[0;34m\u001b[0m\u001b[0;34m\u001b[0m\u001b[0m\n\u001b[0m\u001b[1;32m      4\u001b[0m \u001b[0;31m#\u001b[0m\u001b[0;34m\u001b[0m\u001b[0;34m\u001b[0m\u001b[0;34m\u001b[0m\u001b[0m\n",
      "\u001b[0;32m<ipython-input-32-569bc59866c4>\u001b[0m in \u001b[0;36mtrain\u001b[0;34m(net, n_epoch)\u001b[0m\n\u001b[1;32m     41\u001b[0m                     \u001b[0;32mif\u001b[0m \u001b[0mphase\u001b[0m \u001b[0;34m==\u001b[0m \u001b[0;34m'val'\u001b[0m\u001b[0;34m:\u001b[0m\u001b[0;34m\u001b[0m\u001b[0;34m\u001b[0m\u001b[0m\n\u001b[1;32m     42\u001b[0m                         \u001b[0mtest_preds\u001b[0m \u001b[0;34m=\u001b[0m \u001b[0mnet\u001b[0m\u001b[0;34m.\u001b[0m\u001b[0mforward\u001b[0m\u001b[0;34m(\u001b[0m\u001b[0minputs\u001b[0m\u001b[0;34m)\u001b[0m\u001b[0;34m\u001b[0m\u001b[0;34m\u001b[0m\u001b[0m\n\u001b[0;32m---> 43\u001b[0;31m                         \u001b[0mtest_loss_history\u001b[0m\u001b[0;34m.\u001b[0m\u001b[0mappend\u001b[0m\u001b[0;34m(\u001b[0m\u001b[0mloss\u001b[0m\u001b[0;34m(\u001b[0m\u001b[0minputs\u001b[0m\u001b[0;34m,\u001b[0m \u001b[0mlabels\u001b[0m\u001b[0;34m)\u001b[0m\u001b[0;34m.\u001b[0m\u001b[0mdata\u001b[0m\u001b[0;34m.\u001b[0m\u001b[0mcpu\u001b[0m\u001b[0;34m(\u001b[0m\u001b[0;34m)\u001b[0m\u001b[0;34m)\u001b[0m\u001b[0;34m\u001b[0m\u001b[0;34m\u001b[0m\u001b[0m\n\u001b[0m\u001b[1;32m     44\u001b[0m \u001b[0;34m\u001b[0m\u001b[0m\n\u001b[1;32m     45\u001b[0m                         \u001b[0maccuracy\u001b[0m \u001b[0;34m=\u001b[0m \u001b[0;34m(\u001b[0m\u001b[0mtest_preds\u001b[0m\u001b[0;34m.\u001b[0m\u001b[0margmax\u001b[0m\u001b[0;34m(\u001b[0m\u001b[0mdim\u001b[0m\u001b[0;34m=\u001b[0m\u001b[0;36m1\u001b[0m\u001b[0;34m)\u001b[0m \u001b[0;34m==\u001b[0m \u001b[0mlabels\u001b[0m\u001b[0;34m)\u001b[0m\u001b[0;34m.\u001b[0m\u001b[0mfloat\u001b[0m\u001b[0;34m(\u001b[0m\u001b[0;34m)\u001b[0m\u001b[0;34m.\u001b[0m\u001b[0mmean\u001b[0m\u001b[0;34m(\u001b[0m\u001b[0;34m)\u001b[0m\u001b[0;34m.\u001b[0m\u001b[0mdata\u001b[0m\u001b[0;34m.\u001b[0m\u001b[0mcpu\u001b[0m\u001b[0;34m(\u001b[0m\u001b[0;34m)\u001b[0m\u001b[0;34m\u001b[0m\u001b[0;34m\u001b[0m\u001b[0m\n",
      "\u001b[0;32m/usr/local/lib/python3.7/dist-packages/torch/nn/modules/module.py\u001b[0m in \u001b[0;36m_call_impl\u001b[0;34m(self, *input, **kwargs)\u001b[0m\n\u001b[1;32m    720\u001b[0m             \u001b[0mresult\u001b[0m \u001b[0;34m=\u001b[0m \u001b[0mself\u001b[0m\u001b[0;34m.\u001b[0m\u001b[0m_slow_forward\u001b[0m\u001b[0;34m(\u001b[0m\u001b[0;34m*\u001b[0m\u001b[0minput\u001b[0m\u001b[0;34m,\u001b[0m \u001b[0;34m**\u001b[0m\u001b[0mkwargs\u001b[0m\u001b[0;34m)\u001b[0m\u001b[0;34m\u001b[0m\u001b[0;34m\u001b[0m\u001b[0m\n\u001b[1;32m    721\u001b[0m         \u001b[0;32melse\u001b[0m\u001b[0;34m:\u001b[0m\u001b[0;34m\u001b[0m\u001b[0;34m\u001b[0m\u001b[0m\n\u001b[0;32m--> 722\u001b[0;31m             \u001b[0mresult\u001b[0m \u001b[0;34m=\u001b[0m \u001b[0mself\u001b[0m\u001b[0;34m.\u001b[0m\u001b[0mforward\u001b[0m\u001b[0;34m(\u001b[0m\u001b[0;34m*\u001b[0m\u001b[0minput\u001b[0m\u001b[0;34m,\u001b[0m \u001b[0;34m**\u001b[0m\u001b[0mkwargs\u001b[0m\u001b[0;34m)\u001b[0m\u001b[0;34m\u001b[0m\u001b[0;34m\u001b[0m\u001b[0m\n\u001b[0m\u001b[1;32m    723\u001b[0m         for hook in itertools.chain(\n\u001b[1;32m    724\u001b[0m                 \u001b[0m_global_forward_hooks\u001b[0m\u001b[0;34m.\u001b[0m\u001b[0mvalues\u001b[0m\u001b[0;34m(\u001b[0m\u001b[0;34m)\u001b[0m\u001b[0;34m,\u001b[0m\u001b[0;34m\u001b[0m\u001b[0;34m\u001b[0m\u001b[0m\n",
      "\u001b[0;32m/usr/local/lib/python3.7/dist-packages/torch/nn/modules/loss.py\u001b[0m in \u001b[0;36mforward\u001b[0;34m(self, input, target)\u001b[0m\n\u001b[1;32m    946\u001b[0m     \u001b[0;32mdef\u001b[0m \u001b[0mforward\u001b[0m\u001b[0;34m(\u001b[0m\u001b[0mself\u001b[0m\u001b[0;34m,\u001b[0m \u001b[0minput\u001b[0m\u001b[0;34m:\u001b[0m \u001b[0mTensor\u001b[0m\u001b[0;34m,\u001b[0m \u001b[0mtarget\u001b[0m\u001b[0;34m:\u001b[0m \u001b[0mTensor\u001b[0m\u001b[0;34m)\u001b[0m \u001b[0;34m->\u001b[0m \u001b[0mTensor\u001b[0m\u001b[0;34m:\u001b[0m\u001b[0;34m\u001b[0m\u001b[0;34m\u001b[0m\u001b[0m\n\u001b[1;32m    947\u001b[0m         return F.cross_entropy(input, target, weight=self.weight,\n\u001b[0;32m--> 948\u001b[0;31m                                ignore_index=self.ignore_index, reduction=self.reduction)\n\u001b[0m\u001b[1;32m    949\u001b[0m \u001b[0;34m\u001b[0m\u001b[0m\n\u001b[1;32m    950\u001b[0m \u001b[0;34m\u001b[0m\u001b[0m\n",
      "\u001b[0;32m/usr/local/lib/python3.7/dist-packages/torch/nn/functional.py\u001b[0m in \u001b[0;36mcross_entropy\u001b[0;34m(input, target, weight, size_average, ignore_index, reduce, reduction)\u001b[0m\n\u001b[1;32m   2420\u001b[0m     \u001b[0;32mif\u001b[0m \u001b[0msize_average\u001b[0m \u001b[0;32mis\u001b[0m \u001b[0;32mnot\u001b[0m \u001b[0;32mNone\u001b[0m \u001b[0;32mor\u001b[0m \u001b[0mreduce\u001b[0m \u001b[0;32mis\u001b[0m \u001b[0;32mnot\u001b[0m \u001b[0;32mNone\u001b[0m\u001b[0;34m:\u001b[0m\u001b[0;34m\u001b[0m\u001b[0;34m\u001b[0m\u001b[0m\n\u001b[1;32m   2421\u001b[0m         \u001b[0mreduction\u001b[0m \u001b[0;34m=\u001b[0m \u001b[0m_Reduction\u001b[0m\u001b[0;34m.\u001b[0m\u001b[0mlegacy_get_string\u001b[0m\u001b[0;34m(\u001b[0m\u001b[0msize_average\u001b[0m\u001b[0;34m,\u001b[0m \u001b[0mreduce\u001b[0m\u001b[0;34m)\u001b[0m\u001b[0;34m\u001b[0m\u001b[0;34m\u001b[0m\u001b[0m\n\u001b[0;32m-> 2422\u001b[0;31m     \u001b[0;32mreturn\u001b[0m \u001b[0mnll_loss\u001b[0m\u001b[0;34m(\u001b[0m\u001b[0mlog_softmax\u001b[0m\u001b[0;34m(\u001b[0m\u001b[0minput\u001b[0m\u001b[0;34m,\u001b[0m \u001b[0;36m1\u001b[0m\u001b[0;34m)\u001b[0m\u001b[0;34m,\u001b[0m \u001b[0mtarget\u001b[0m\u001b[0;34m,\u001b[0m \u001b[0mweight\u001b[0m\u001b[0;34m,\u001b[0m \u001b[0;32mNone\u001b[0m\u001b[0;34m,\u001b[0m \u001b[0mignore_index\u001b[0m\u001b[0;34m,\u001b[0m \u001b[0;32mNone\u001b[0m\u001b[0;34m,\u001b[0m \u001b[0mreduction\u001b[0m\u001b[0;34m)\u001b[0m\u001b[0;34m\u001b[0m\u001b[0;34m\u001b[0m\u001b[0m\n\u001b[0m\u001b[1;32m   2423\u001b[0m \u001b[0;34m\u001b[0m\u001b[0m\n\u001b[1;32m   2424\u001b[0m \u001b[0;34m\u001b[0m\u001b[0m\n",
      "\u001b[0;32m/usr/local/lib/python3.7/dist-packages/torch/nn/functional.py\u001b[0m in \u001b[0;36mnll_loss\u001b[0;34m(input, target, weight, size_average, ignore_index, reduce, reduction)\u001b[0m\n\u001b[1;32m   2218\u001b[0m         \u001b[0mret\u001b[0m \u001b[0;34m=\u001b[0m \u001b[0mtorch\u001b[0m\u001b[0;34m.\u001b[0m\u001b[0m_C\u001b[0m\u001b[0;34m.\u001b[0m\u001b[0m_nn\u001b[0m\u001b[0;34m.\u001b[0m\u001b[0mnll_loss\u001b[0m\u001b[0;34m(\u001b[0m\u001b[0minput\u001b[0m\u001b[0;34m,\u001b[0m \u001b[0mtarget\u001b[0m\u001b[0;34m,\u001b[0m \u001b[0mweight\u001b[0m\u001b[0;34m,\u001b[0m \u001b[0m_Reduction\u001b[0m\u001b[0;34m.\u001b[0m\u001b[0mget_enum\u001b[0m\u001b[0;34m(\u001b[0m\u001b[0mreduction\u001b[0m\u001b[0;34m)\u001b[0m\u001b[0;34m,\u001b[0m \u001b[0mignore_index\u001b[0m\u001b[0;34m)\u001b[0m\u001b[0;34m\u001b[0m\u001b[0;34m\u001b[0m\u001b[0m\n\u001b[1;32m   2219\u001b[0m     \u001b[0;32melif\u001b[0m \u001b[0mdim\u001b[0m \u001b[0;34m==\u001b[0m \u001b[0;36m4\u001b[0m\u001b[0;34m:\u001b[0m\u001b[0;34m\u001b[0m\u001b[0;34m\u001b[0m\u001b[0m\n\u001b[0;32m-> 2220\u001b[0;31m         \u001b[0mret\u001b[0m \u001b[0;34m=\u001b[0m \u001b[0mtorch\u001b[0m\u001b[0;34m.\u001b[0m\u001b[0m_C\u001b[0m\u001b[0;34m.\u001b[0m\u001b[0m_nn\u001b[0m\u001b[0;34m.\u001b[0m\u001b[0mnll_loss2d\u001b[0m\u001b[0;34m(\u001b[0m\u001b[0minput\u001b[0m\u001b[0;34m,\u001b[0m \u001b[0mtarget\u001b[0m\u001b[0;34m,\u001b[0m \u001b[0mweight\u001b[0m\u001b[0;34m,\u001b[0m \u001b[0m_Reduction\u001b[0m\u001b[0;34m.\u001b[0m\u001b[0mget_enum\u001b[0m\u001b[0;34m(\u001b[0m\u001b[0mreduction\u001b[0m\u001b[0;34m)\u001b[0m\u001b[0;34m,\u001b[0m \u001b[0mignore_index\u001b[0m\u001b[0;34m)\u001b[0m\u001b[0;34m\u001b[0m\u001b[0;34m\u001b[0m\u001b[0m\n\u001b[0m\u001b[1;32m   2221\u001b[0m     \u001b[0;32melse\u001b[0m\u001b[0;34m:\u001b[0m\u001b[0;34m\u001b[0m\u001b[0;34m\u001b[0m\u001b[0m\n\u001b[1;32m   2222\u001b[0m         \u001b[0;31m# dim == 3 or dim > 4\u001b[0m\u001b[0;34m\u001b[0m\u001b[0;34m\u001b[0m\u001b[0;34m\u001b[0m\u001b[0m\n",
      "\u001b[0;31mRuntimeError\u001b[0m: only batches of spatial targets supported (3D tensors) but got targets of dimension: 1"
     ]
    }
   ],
   "source": [
    "#!c1.8\n",
    "network = LeNet()\n",
    "\n",
    "test_loss_history, test_accuracy_history = train(network, 15)"
   ]
  },
  {
   "cell_type": "code",
   "execution_count": 218,
   "id": "308ce810",
   "metadata": {
    "cellId": "rx6rdx0ybzityc50f6swn"
   },
   "outputs": [],
   "source": [
    "#!c1.8\n",
    "torch.save(network.state_dict(), 'models/lenet')"
   ]
  },
  {
   "cell_type": "code",
   "execution_count": 220,
   "id": "206517a1",
   "metadata": {
    "cellId": "yiqruspbuh88e0uossuna"
   },
   "outputs": [
    {
     "data": {
      "text/plain": [
       "<All keys matched successfully>"
      ]
     },
     "metadata": {},
     "output_type": "display_data"
    }
   ],
   "source": [
    "#!c1.8\n",
    "the_model = LeNet()\n",
    "the_model.load_state_dict(torch.load('models/lenet'))"
   ]
  },
  {
   "cell_type": "code",
   "execution_count": 228,
   "id": "0341e9a6",
   "metadata": {
    "cellId": "xcgj6s3hg7kznegtrdanse"
   },
   "outputs": [],
   "source": [
    "#!c1.8\n",
    "def print_history(test_history):\n",
    "    plt.plot(test_accuracy_history);"
   ]
  },
  {
   "cell_type": "code",
   "execution_count": 229,
   "id": "3119bbde",
   "metadata": {
    "cellId": "ukdab46e2i53yag54n5kc"
   },
   "outputs": [
    {
     "data": {
      "image/png": "[encoded data removed]",
      "text/plain": [
       "<Figure size 432x288 with 1 Axes>"
      ]
     },
     "metadata": {
      "needs_background": "light"
     },
     "output_type": "display_data"
    }
   ],
   "source": [
    "#!c1.8\n",
    "print_accuracy(test_accuracy_history)"
   ]
  }
 ],
 "metadata": {
  "kernelspec": {
   "display_name": "Yandex DataSphere Kernel",
   "language": "python",
   "name": "python3"
  },
  "language_info": {
   "codemirror_mode": {
    "name": "ipython",
    "version": 3
   },
   "file_extension": ".py",
   "mimetype": "text/x-python",
   "name": "python",
   "nbconvert_exporter": "python",
   "pygments_lexer": "ipython3",
   "version": "3.7.7"
  },
  "notebookId": "c8a8e648-9d0b-4359-a6de-48f155c8ac07",
  "notebookPath": "models_rgb/Model-LeNet.ipynb"
 },
 "nbformat": 4,
 "nbformat_minor": 5
}
