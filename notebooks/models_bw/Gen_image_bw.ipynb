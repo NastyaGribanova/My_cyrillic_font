{
 "cells": [
  {
   "cell_type": "code",
   "execution_count": 49,
   "metadata": {
    "cellId": "btq07rp2d3va39w5uv1k2a"
   },
   "outputs": [],
   "source": [
    "import random\n",
    "\n",
    "def random_count():\n",
    "    return random.randint(1, 15)\n",
    "\n",
    "def random_font_size(size):\n",
    "    percent = random.randint(9, 60)\n",
    "    font_size = percent * size / 100\n",
    "    return int(font_size)"
   ]
  },
  {
   "cell_type": "code",
   "execution_count": 50,
   "metadata": {
    "cellId": "wgon0bdnob85avmry8cuny"
   },
   "outputs": [],
   "source": [
    "#!c1.8\n",
    "from PIL import Image, ImageDraw, ImageFont\n",
    "from math import sqrt\n",
    "\n",
    "def generate_image(font_name_without_family, font_name, font_function_path, save_path, number, color_img, color_font):\n",
    "    \n",
    "    width = 252\n",
    "    height = 252\n",
    "    \n",
    "    img = Image.new('RGB', (width, height), color=color_img)\n",
    "\n",
    "    draw = ImageDraw.ImageDraw(img)\n",
    "\n",
    "    xy = (random.randint(1, int(img.size[0]/2)), random.randint(int(img.size[1]/6.5), int(img.size[1]/1.8)))\n",
    "\n",
    "    text = ''\n",
    "    count = random_count()\n",
    "    for i in range(count):\n",
    "        text += str(chr(random.randint(1040, 1103)))\n",
    "\n",
    "    font = ImageFont.truetype(font_function_path, random_font_size(height))\n",
    "\n",
    "    draw.text(xy=xy, text=text, anchor=\"lm\", font=font, fill=color_font)\n",
    "\n",
    "    new_image_path = str(save_path) + str(font_name_without_family) + \"/\" + str(font_name) + str(number) + '.jpg'\n",
    "\n",
    "    img.save(new_image_path)"
   ]
  },
  {
   "cell_type": "markdown",
   "metadata": {
    "cellId": "7fpoymofevgcjwq474izsu"
   },
   "source": [
    "Генерируем изображения - у каждого шрифта разное количество начертаний, поэтому генерируем разное количество разных начертаний, чтоб в общем количество картинок шрифтов было примерно одинаковым"
   ]
  },
  {
   "cell_type": "code",
   "execution_count": 52,
   "metadata": {
    "cellId": "d1gaaqzi3cqap7d587rkdf"
   },
   "outputs": [],
   "source": [
    "#!c1.8\n",
    "import os\n",
    "\n",
    "fonts_path = '../Fonts/'\n",
    "save_path = 'Images/'\n",
    "\n",
    "for dir in os.listdir(fonts_path):\n",
    "    if (str(dir) != \".ipynb_checkpoints\"):\n",
    "        aux_dir = os.path.join(fonts_path,dir)\n",
    "        new_dir = str(save_path) + str(dir)\n",
    "        os.makedirs(new_dir)\n",
    "        if os.path.isdir(aux_dir):\n",
    "            for file in os.listdir(aux_dir):\n",
    "                filename = os.fsdecode(file)\n",
    "                font_name = filename.split('.')[0]\n",
    "                font_function_path = os.path.join(aux_dir,file)\n",
    "                font_name_without_family = font_name.split('-')[0]\n",
    "\n",
    "                if filename.startswith(\"Inter\"): \n",
    "                    for i in range(1, 100):\n",
    "                        generate_image(font_name_without_family, font_name, font_function_path, save_path, i, (0,0,0), (255,255,255))\n",
    "                    for i in range(101, 200):\n",
    "                        generate_image(font_name_without_family, font_name, font_function_path, save_path, i, (255,255,255), (0,0,0))    \n",
    "                                       \n",
    "                if filename.startswith(\"Montserrat\"): \n",
    "                    for i in range(1, 55):\n",
    "                        generate_image(font_name_without_family, font_name, font_function_path, save_path, i, (0,0,0), (255,255,255))\n",
    "                    for i in range(56, 110):\n",
    "                        generate_image(font_name_without_family, font_name, font_function_path, save_path, i, (255,255,255), (0,0,0))  \n",
    "                        \n",
    "                if filename.startswith(\"Nunito\"): \n",
    "                    for i in range(1, 60):\n",
    "                        generate_image(font_name_without_family, font_name, font_function_path, save_path, i, (0,0,0), (255,255,255))\n",
    "                    for i in range(61, 120):\n",
    "                        generate_image(font_name_without_family, font_name, font_function_path, save_path, i, (255,255,255), (0,0,0))  \n",
    "                        \n",
    "                if filename.startswith(\"OpenSans\"): \n",
    "                    for i in range(1, 70):\n",
    "                        generate_image(font_name_without_family, font_name, font_function_path, save_path, i, (0,0,0), (255,255,255))\n",
    "                    for i in range(71, 140):\n",
    "                        generate_image(font_name_without_family, font_name, font_function_path, save_path, i, (255,255,255), (0,0,0)) \n",
    "                \n",
    "                if filename.startswith(\"Oswald\"): \n",
    "                    for i in range(1, 145):\n",
    "                        generate_image(font_name_without_family, font_name, font_function_path, save_path, i, (0,0,0), (255,255,255))\n",
    "                    for i in range(146, 290):\n",
    "                        generate_image(font_name_without_family, font_name, font_function_path, save_path, i, (255,255,255), (0,0,0)) \n",
    "                        \n",
    "                if filename.startswith(\"PTSans\"): \n",
    "                    for i in range(1, 255):\n",
    "                        generate_image(font_name_without_family, font_name, font_function_path, save_path, i, (0,0,0), (255,255,255))\n",
    "                    for i in range(256, 510):\n",
    "                        generate_image(font_name_without_family, font_name, font_function_path, save_path, i, (255,255,255), (0,0,0)) \n",
    "                        \n",
    "                if filename.startswith(\"Raleway\"): \n",
    "                    for i in range(1, 50):\n",
    "                        generate_image(font_name_without_family, font_name, font_function_path, save_path, i, (0,0,0), (255,255,255))\n",
    "                    for i in range(51, 100):\n",
    "                        generate_image(font_name_without_family, font_name, font_function_path, save_path, i, (255,255,255), (0,0,0)) \n",
    "                        \n",
    "                if filename.startswith(\"Roboto\"): \n",
    "                    for i in range(1, 80):\n",
    "                        generate_image(font_name_without_family, font_name, font_function_path, save_path, i, (0,0,0), (255,255,255))\n",
    "                    for i in range(81, 160):\n",
    "                        generate_image(font_name_without_family, font_name, font_function_path, save_path, i, (255,255,255), (0,0,0)) \n",
    "                        \n",
    "                if filename.startswith(\"SourseSansPro\"): \n",
    "                    for i in range(1, 80):\n",
    "                        generate_image(font_name_without_family, font_name, font_function_path, save_path, i, (0,0,0), (255,255,255))\n",
    "                    for i in range(81, 160):\n",
    "                        generate_image(font_name_without_family, font_name, font_function_path, save_path, i, (255,255,255), (0,0,0)) \n",
    "                        \n",
    "                if filename.startswith(\"Ubuntu\"): \n",
    "                    for i in range(1, 130):\n",
    "                        generate_image(font_name_without_family, font_name, font_function_path, save_path, i, (0,0,0), (255,255,255))\n",
    "                    for i in range(131, 260):\n",
    "                        generate_image(font_name_without_family, font_name, font_function_path, save_path, i, (255,255,255), (0,0,0)) "
   ]
  },
  {
   "cell_type": "code",
   "execution_count": null,
   "metadata": {
    "cellId": "end0g24kbvhkf3u3icykem"
   },
   "outputs": [],
   "source": [
    "#!c1.8\n"
   ]
  }
 ],
 "metadata": {
  "kernelspec": {
   "display_name": "Yandex DataSphere Kernel",
   "language": "python",
   "name": "python3"
  },
  "language_info": {
   "codemirror_mode": {
    "name": "ipython",
    "version": 3
   },
   "file_extension": ".py",
   "mimetype": "text/x-python",
   "name": "python",
   "nbconvert_exporter": "python",
   "pygments_lexer": "ipython3",
   "version": "3.7.7"
  },
  "notebookId": "21d4996f-1474-4107-9035-a300bfe73213",
  "notebookPath": "models_bw/Gen_image_bw.ipynb"
 },
 "nbformat": 4,
 "nbformat_minor": 4
}
