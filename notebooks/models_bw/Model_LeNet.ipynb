{
 "cells": [
  {
   "cell_type": "code",
   "execution_count": 230,
   "id": "d10e0b73",
   "metadata": {
    "cellId": "v4kqdo94uqkvihcgfyow8"
   },
   "outputs": [],
   "source": [
    "#!c1.8\n",
    "import warnings\n",
    "warnings.filterwarnings('ignore')\n",
    "%matplotlib inline"
   ]
  },
  {
   "cell_type": "code",
   "execution_count": 231,
   "id": "0c1e2c0e",
   "metadata": {
    "cellId": "gu9xnuy1tnt9ntgzs12nxt"
   },
   "outputs": [],
   "source": [
    "#!c1.8\n",
    "from pathlib import Path  \n",
    "import numpy as np  \n",
    "import torch \n",
    "from torch.utils.data import Dataset, DataLoader \n",
    "from torch.utils.data.dataset import Subset \n",
    "from torchvision.datasets import ImageFolder \n",
    "from torchvision.transforms import Compose, RandomResizedCrop, RandomVerticalFlip, RandomHorizontalFlip \n",
    "from torchvision.transforms import ColorJitter, ToTensor, Normalize  \n",
    "import torch.nn as nn "
   ]
  },
  {
   "cell_type": "markdown",
   "id": "8972d502",
   "metadata": {
    "cellId": "6ukpslzglsh6a9zpl9ffxn"
   },
   "source": [
    "Формируем датасеты"
   ]
  },
  {
   "cell_type": "code",
   "execution_count": 232,
   "id": "84832777",
   "metadata": {
    "cellId": "7kyr0rlp2hdlz5nywajeb"
   },
   "outputs": [
    {
     "name": "stderr",
     "output_type": "stream",
     "text": [
      "Copying files: 17712 files [00:52, 338.43 files/s]\n"
     ]
    }
   ],
   "source": [
    "#!c1.8\n",
    "import splitfolders\n",
    "\n",
    "input_folder = 'Images/'\n",
    "splitfolders.ratio(input_folder, 'images_splited', ratio = (0.65, 0.2, 0.15), seed=13, group_prefix=None)"
   ]
  },
  {
   "cell_type": "code",
   "execution_count": 240,
   "id": "4ee0b249",
   "metadata": {
    "cellId": "ddy09u5zarmmoztcdrp4q"
   },
   "outputs": [],
   "source": [
    "#!c1.8\n",
    "import torchvision\n",
    "from torchvision import transforms, models\n",
    "\n",
    "train_dir = 'images_splited/train'\n",
    "val_dir = 'images_splited/val'\n",
    "test_dir = 'images_splited/test'\n",
    "\n",
    "image_transforms = transforms.Compose([\n",
    "    transforms.Resize((256, 256)),\n",
    "    transforms.Grayscale(1),\n",
    "    transforms.ToTensor()\n",
    "])\n",
    "\n",
    "target_transforms = transforms.Lambda(lambda x: x-1)\n",
    "\n",
    "train_dataset = torchvision.datasets.ImageFolder(train_dir, image_transforms, target_transforms)\n",
    "val_dataset = torchvision.datasets.ImageFolder(val_dir, image_transforms, target_transforms)\n",
    "test_dataset = torchvision.datasets.ImageFolder(test_dir, image_transforms, target_transforms)"
   ]
  },
  {
   "cell_type": "code",
   "execution_count": 241,
   "id": "533e8f7e",
   "metadata": {
    "cellId": "uj2et3fw33wpy1n9akql"
   },
   "outputs": [
    {
     "name": "stdout",
     "output_type": "stream",
     "text": [
      "Inter\t    Nunito    Oswald  Raleway  SourceSansPro\n",
      "Montserrat  OpenSans  PTSans  Roboto   Ubuntu\n"
     ]
    }
   ],
   "source": [
    "#!c1.8\n",
    "!ls 'images_splited/train'"
   ]
  },
  {
   "cell_type": "code",
   "execution_count": 242,
   "id": "8eb3aaf2",
   "metadata": {
    "cellId": "yp94yw3eafphu8wzs7psd5"
   },
   "outputs": [],
   "source": [
    "#!c1.8\n",
    "import torch\n",
    "batch_size = 8\n",
    "train_dataloader = torch.utils.data.DataLoader(\n",
    "    train_dataset, batch_size=batch_size, shuffle=True, num_workers=batch_size)\n",
    "val_dataloader = torch.utils.data.DataLoader(\n",
    "    val_dataset, batch_size=batch_size, shuffle=False, num_workers=batch_size)\n",
    "test_dataloader = torch.utils.data.DataLoader(\n",
    "    test_dataset, batch_size=batch_size, shuffle=True, num_workers=batch_size)"
   ]
  },
  {
   "cell_type": "code",
   "execution_count": 243,
   "id": "7394e493",
   "metadata": {
    "cellId": "9u8lovg8nevcuwt7swu3ln"
   },
   "outputs": [
    {
     "data": {
      "text/plain": [
       "1439"
      ]
     },
     "metadata": {},
     "output_type": "display_data"
    }
   ],
   "source": [
    "#!c1.8\n",
    "len(train_dataloader)"
   ]
  },
  {
   "cell_type": "code",
   "execution_count": 244,
   "id": "e7c73927",
   "metadata": {
    "cellId": "ugcxh2wqov85a0vjq46j7g"
   },
   "outputs": [
    {
     "data": {
      "text/plain": [
       "11509"
      ]
     },
     "metadata": {},
     "output_type": "display_data"
    }
   ],
   "source": [
    "#!c1.8\n",
    "len(train_dataset)"
   ]
  },
  {
   "cell_type": "code",
   "execution_count": 245,
   "id": "2d017048",
   "metadata": {
    "cellId": "qt2v2tfaundcoacpy23lkj"
   },
   "outputs": [],
   "source": [
    "#!c1.8\n",
    "import matplotlib.pyplot as plt\n",
    "def show_input(input_tensor, title=''):\n",
    "    image = input_tensor.permute(1, 2, 0).numpy()\n",
    "    plt.imshow(image.clip(0, 1))\n",
    "    plt.title(title)\n",
    "    plt.show()\n",
    "    plt.pause(0.001)"
   ]
  },
  {
   "cell_type": "code",
   "execution_count": 246,
   "id": "7ba832ca",
   "metadata": {
    "cellId": "3aagsp3xe2gro948kdt6vs"
   },
   "outputs": [
    {
     "name": "stdout",
     "output_type": "stream",
     "text": [
      "tensor(0)\n"
     ]
    },
    {
     "data": {
      "image/png": "[encoded data removed]",
      "text/plain": [
       "<Figure size 432x288 with 1 Axes>"
      ]
     },
     "metadata": {
      "needs_background": "light"
     },
     "output_type": "display_data"
    }
   ],
   "source": [
    "#!c1.8\n",
    "X_batch, y_batch = next(iter(train_dataloader))\n",
    "show_input(X_batch[0])\n",
    "print(y_batch[0])"
   ]
  },
  {
   "cell_type": "markdown",
   "id": "d939a1c3",
   "metadata": {
    "cellId": "r3jpt41ovhe38ic3zap98"
   },
   "source": [
    "Определяем нашу нейронную сеть"
   ]
  },
  {
   "cell_type": "code",
   "execution_count": 247,
   "id": "a7fa08bd",
   "metadata": {
    "cellId": "53eonftcprbaesxaecjbwl"
   },
   "outputs": [],
   "source": [
    "#!c1.8\n",
    "import torch.nn as nn\n",
    "\n",
    "class LeNet(nn.Module):\n",
    "    def __init__(self):\n",
    "        super(LeNet, self).__init__()\n",
    "        self.conv1 = nn.Conv2d(in_channels=1, out_channels=32, kernel_size=3, padding=1)\n",
    "        self.conv2 = nn.Conv2d(in_channels=32, out_channels=32, kernel_size=3, padding=1)\n",
    "        self.act1 = nn.ReLU()\n",
    "        self.pool1 = nn.MaxPool2d(kernel_size=2, stride=2)\n",
    "        self.bn1 = torch.nn.BatchNorm2d(num_features=32)\n",
    "        \n",
    "        self.conv3 = nn.Conv2d(in_channels=32, out_channels=64, kernel_size=3, padding=1)\n",
    "        self.conv4 = nn.Conv2d(in_channels=64, out_channels=64, kernel_size=3, padding=1)\n",
    "        self.act2 = nn.ReLU()\n",
    "        self.pool2 = nn.MaxPool2d(kernel_size=2, stride=2)\n",
    "        self.bn2 = torch.nn.BatchNorm2d(num_features=64)\n",
    "        \n",
    "        self.conv5 = nn.Conv2d(in_channels=64, out_channels=128, kernel_size=3, padding=1)\n",
    "        self.conv6 = nn.Conv2d(in_channels=128, out_channels=128, kernel_size=3, padding=1)\n",
    "        self.act3 = nn.ReLU()\n",
    "        self.pool3 = nn.MaxPool2d(kernel_size=2, stride=2)\n",
    "        self.bn3 = torch.nn.BatchNorm2d(num_features=128)\n",
    "        \n",
    "        self.flatten = torch.nn.Flatten()\n",
    "        \n",
    "        self.fc1 = nn.Linear(in_features=32 * 32 * 128, out_features=128)\n",
    "        self.fc2 = nn.Linear(128, 10)\n",
    "        \n",
    "        self.drop = torch.nn.Dropout(0.25)\n",
    "        \n",
    "    def forward(self, x):\n",
    "        x = self.conv1(x)\n",
    "        x = self.conv2(x)\n",
    "        x = self.act1(x)\n",
    "        x = self.pool1(x)\n",
    "        x = self.bn1(x)\n",
    "        \n",
    "        x = self.conv3(x)\n",
    "        x = self.conv4(x)\n",
    "        x = self.act2(x)\n",
    "        x = self.pool2(x)\n",
    "        x = self.bn2(x)\n",
    "        \n",
    "        x = self.conv5(x)\n",
    "        x = self.conv6(x)\n",
    "        x = self.act3(x)\n",
    "        x = self.pool3(x)\n",
    "        x = self.bn3(x)\n",
    "        \n",
    "        x = self.flatten(x)\n",
    "        x = self.fc1(x)\n",
    "        x = self.fc2(x)\n",
    "        \n",
    "        x = self.drop(x)\n",
    "        return x"
   ]
  },
  {
   "cell_type": "code",
   "execution_count": 248,
   "id": "034c6ec2",
   "metadata": {
    "cellId": "xsv5m7c5h3erxzhvlryuqq"
   },
   "outputs": [],
   "source": [
    "#!c1.8\n",
    "model = LeNet()\n",
    "optimizer = torch.optim.Adam(model.parameters(), lr=1.0e-3)\n",
    "criterion = nn.CrossEntropyLoss()"
   ]
  },
  {
   "cell_type": "markdown",
   "id": "3797d71b",
   "metadata": {
    "cellId": "y9wc3m2cz6j4iyw733gleq"
   },
   "source": [
    "process_function для обработки одного батча и служит для реализации проходов по обучающей выборке - только определяет необходимые объекты без запуска обучения. Для дальнейшего запуска на движке Engine"
   ]
  },
  {
   "cell_type": "code",
   "execution_count": 249,
   "id": "7e14f0e1",
   "metadata": {
    "cellId": "3afnd81kneta5gztxicdpn"
   },
   "outputs": [],
   "source": [
    "#!c1.8\n",
    "from ignite.engine import Engine, _prepare_batch  \n",
    "device = torch.device('cuda:0' if torch.cuda.is_available() else 'cpu')\n",
    "def process_function(engine, batch):     \n",
    "    model.train()     \n",
    "    optimizer.zero_grad()     \n",
    "    x, y = _prepare_batch(batch, device=device)     \n",
    "    y_pred = model(x)     \n",
    "    loss = criterion(y_pred, y)     \n",
    "    loss.backward()     \n",
    "    optimizer.step()     \n",
    "    return loss.item()  \n",
    "\n",
    "trainer = Engine(process_function)"
   ]
  },
  {
   "cell_type": "markdown",
   "id": "c125b2b8",
   "metadata": {
    "cellId": "4sdzlhnguki94a1s1grpzg"
   },
   "source": [
    "Вывод на экран значения функции потерь"
   ]
  },
  {
   "cell_type": "code",
   "execution_count": 250,
   "id": "5ac798b7",
   "metadata": {
    "cellId": "4cf0rb6xc75bccrfzz0slm"
   },
   "outputs": [],
   "source": [
    "#!c1.8\n",
    "#from ignite.engine import Events\n",
    "#log_interval = 500\n",
    "#@trainer.on(Events.ITERATION_COMPLETED) \n",
    "#def log_training_loss(engine):     \n",
    "#    iteration = (engine.state.iteration - 1) % len(train_dataloader) + 1     \n",
    "#    if iteration % log_interval == 0:         \n",
    "#        print(\"Epoch[{}] Iteration[{}/{}] Loss: {:.4f}\"               \n",
    "#              .format(engine.state.epoch,                          \n",
    "#                      iteration,                           \n",
    "#                      len(train_dataloader),                           \n",
    "#                      engine.state.output))"
   ]
  },
  {
   "cell_type": "markdown",
   "id": "3687e7f1",
   "metadata": {
    "cellId": "21fdzh1cnqjy8gw8ly5cfm"
   },
   "source": [
    "Определяем метрики, которые будем печать в процессе обучения"
   ]
  },
  {
   "cell_type": "code",
   "execution_count": 251,
   "id": "96f5926b",
   "metadata": {
    "cellId": "5ys0qr7npm308g7o4hfm3jj"
   },
   "outputs": [],
   "source": [
    "#!c1.8\n",
    "from ignite.metrics import Loss, Accuracy, Precision, Recall\n",
    "metrics = {     \n",
    "    'avg_loss': Loss(criterion),     \n",
    "    'avg_accuracy': Accuracy(),     \n",
    "    'avg_precision': Precision(average=True),     \n",
    "    'avg_recall': Recall(average=True) \n",
    "}"
   ]
  },
  {
   "cell_type": "markdown",
   "id": "b584e43b",
   "metadata": {
    "cellId": "p2si2ye4qtbps2ykxkufkf"
   },
   "source": [
    "Создаем два движка для оценки модели. Мы создаем два движка для того, чтобы на один из них (val_evaluator) далее прицепить дополнительные обработчики событий для сохранения модели и ранней остановки обучения"
   ]
  },
  {
   "cell_type": "code",
   "execution_count": 252,
   "id": "32dd1a3b",
   "metadata": {
    "cellId": "llm1pfa3nx30uplbbeu3f"
   },
   "outputs": [],
   "source": [
    "#!c1.8\n",
    "from ignite.engine import create_supervised_evaluator\n",
    "train_evaluator = create_supervised_evaluator(model, metrics=metrics, device=device)\n",
    "val_evaluator = create_supervised_evaluator(model, metrics=metrics, device=device)"
   ]
  },
  {
   "cell_type": "markdown",
   "id": "8d61e34f",
   "metadata": {
    "cellId": "dbba5qbcw58zlc3avefk0b"
   },
   "source": [
    "Выберем случайным образом часть обучающей выборки, на которой будем вычислять метрики"
   ]
  },
  {
   "cell_type": "code",
   "execution_count": 253,
   "id": "1d887703",
   "metadata": {
    "cellId": "0hcejnkhho2e5e5ozaxfrxh"
   },
   "outputs": [],
   "source": [
    "#!c1.8\n",
    "import numpy as np\n",
    "from torch.utils.data.dataset import Subset\n",
    "indices = np.arange(len(train_dataset))\n",
    "random_indices = np.random.permutation(indices)[:len(val_dataset)]\n",
    "\n",
    "train_subset = Subset(train_dataset, indices=random_indices)\n",
    "\n",
    "train_eval_loader = DataLoader(train_subset, batch_size=batch_size, shuffle=True,\n",
    "                                num_workers=batch_size, \n",
    "                                drop_last=True)"
   ]
  },
  {
   "cell_type": "markdown",
   "id": "c2125a59",
   "metadata": {
    "cellId": "hyk6oxq8fhvbet0ee8n1l"
   },
   "source": [
    "Определим запуск вычисления и вывода метрик в конце эпохи"
   ]
  },
  {
   "cell_type": "code",
   "execution_count": 254,
   "id": "ed7c4ff6",
   "metadata": {
    "cellId": "k9dgxpj43h22n07m6762c"
   },
   "outputs": [],
   "source": [
    "#!c1.8\n",
    "from ignite.engine import Events\n",
    "@trainer.on(Events.EPOCH_COMPLETED) \n",
    "def compute_and_display_offline_train_metrics(engine):\n",
    "    epoch = engine.state.epoch     \n",
    "    print(\"Compute train metrics...\") \n",
    "    metrics = train_evaluator.run(train_eval_loader).metrics  \n",
    "    print(\"Training Results - Epoch: {}  Average Loss: {:.4f} | Accuracy: {:.4f} | Precision: {:.4f} | Recall: {:.4f}\"  \n",
    "          .format(engine.state.epoch,                    \n",
    "                  metrics['avg_loss'],   \n",
    "                  metrics['avg_accuracy'],   \n",
    "                  metrics['avg_precision'],  \n",
    "                  metrics['avg_recall']))  \n",
    "@trainer.on(Events.EPOCH_COMPLETED) \n",
    "def compute_and_display_val_metrics(engine): \n",
    "    epoch = engine.state.epoch    \n",
    "    print(\"Compute validation metrics...\")  \n",
    "    metrics = val_evaluator.run(val_dataloader).metrics   \n",
    "    print(\"Validation Results - Epoch: {}  Average Loss: {:.4f} | Accuracy: {:.4f} | Precision: {:.4f} | Recall: {:.4f}\"  \n",
    "          .format(engine.state.epoch,                     \n",
    "                  metrics['avg_loss'],                   \n",
    "                  metrics['avg_accuracy'],                \n",
    "                  metrics['avg_precision'],     \n",
    "                  metrics['avg_recall'])) "
   ]
  },
  {
   "cell_type": "markdown",
   "id": "b08ca8f9",
   "metadata": {
    "cellId": "pmpcjokbgcqhlobc6ub5"
   },
   "source": [
    "Изменяем скорость обучения в начале каждой эпохи"
   ]
  },
  {
   "cell_type": "code",
   "execution_count": 255,
   "id": "feae7779",
   "metadata": {
    "cellId": "cnlh3ik7a3h67728q92vys"
   },
   "outputs": [],
   "source": [
    "#!c1.8\n",
    "from torch.optim.lr_scheduler import ExponentialLR\n",
    "\n",
    "lr_scheduler = ExponentialLR(optimizer, gamma=0.8)\n",
    "\n",
    "@trainer.on(Events.EPOCH_STARTED)\n",
    "def update_lr_scheduler(engine):\n",
    "    lr_scheduler.step()\n",
    "    # Вывод значений скорости обучения:\n",
    "    if len(optimizer.param_groups) == 1:\n",
    "        lr = float(optimizer.param_groups[0]['lr'])\n",
    "        print(\"Learning rate: {}\".format(lr))\n",
    "    else:\n",
    "        for i, param_group in enumerate(optimizer.param_groups):\n",
    "            lr = float(param_group['lr'])\n",
    "            print(\"Learning rate (group {}): {}\".format(i, lr))"
   ]
  },
  {
   "cell_type": "markdown",
   "id": "1a402c6b",
   "metadata": {
    "cellId": "sbui8ljj88i8259j45n5ir"
   },
   "source": [
    "Сохраняем лучшую модель"
   ]
  },
  {
   "cell_type": "code",
   "execution_count": 256,
   "id": "1d8e366a",
   "metadata": {
    "cellId": "a22ld4k22x4hlcaxl9x91o"
   },
   "outputs": [
    {
     "data": {
      "text/plain": [
       "<ignite.engine.events.RemovableEventHandle at 0x7fd57afad710>"
      ]
     },
     "metadata": {},
     "output_type": "display_data"
    }
   ],
   "source": [
    "#!c1.8\n",
    "from ignite.handlers import ModelCheckpoint\n",
    "\n",
    "def score_function(engine):\n",
    "    val_avg_accuracy = engine.state.metrics['avg_accuracy']\n",
    "    return val_avg_accuracy\n",
    "\n",
    "best_model_saver = ModelCheckpoint(\"models\",  \n",
    "                                   filename_prefix=\"model\",\n",
    "                                   score_name=\"val_accuracy\",  \n",
    "                                   score_function=score_function,\n",
    "                                   n_saved=3,\n",
    "                                   #save_as_state_dict=True,\n",
    "                                   create_dir=True,\n",
    "                                   require_empty=False)\n",
    "# \"best_models\" - Папка куда сохранять 1 или несколько лучших моделей\n",
    "# Имя файла -> {filename_prefix}_{name}_{step_number}_{score_name}={abs(score_function_result)}.pth\n",
    "# save_as_state_dict=True,  # Сохранять как `state_dict`\n",
    "\n",
    "val_evaluator.add_event_handler(Events.COMPLETED, \n",
    "                                best_model_saver, \n",
    "                                {\"best_model\": model})"
   ]
  },
  {
   "cell_type": "markdown",
   "id": "a65ac862",
   "metadata": {
    "cellId": "p6lmjiokphqrp8pz1ols4"
   },
   "source": [
    "Ранняя остановка обучения если не будет улучшений на протяжении 20 эпох "
   ]
  },
  {
   "cell_type": "code",
   "execution_count": 257,
   "id": "9e10b400",
   "metadata": {
    "cellId": "r7hhmmg5a3kse764a5lkwh"
   },
   "outputs": [
    {
     "data": {
      "text/plain": [
       "<ignite.engine.events.RemovableEventHandle at 0x7fd4fc857490>"
      ]
     },
     "metadata": {},
     "output_type": "display_data"
    }
   ],
   "source": [
    "#!c1.8\n",
    "from ignite.handlers import EarlyStopping\n",
    "\n",
    "early_stopping = EarlyStopping(patience=20, \n",
    "                              score_function=score_function, \n",
    "                              trainer=trainer)\n",
    "\n",
    "val_evaluator.add_event_handler(Events.EPOCH_COMPLETED, early_stopping)"
   ]
  },
  {
   "cell_type": "code",
   "execution_count": 258,
   "id": "4d8ed8f2",
   "metadata": {
    "cellId": "7eqqlitni2ec073nxyc0h"
   },
   "outputs": [
    {
     "name": "stdout",
     "output_type": "stream",
     "text": [
      "Learning rate: 0.0008\n",
      "Compute train metrics...\n",
      "Training Results - Epoch: 1  Average Loss: 2.4437 | Accuracy: 0.1343 | Precision: 0.1312 | Recall: 0.1186\n",
      "Compute validation metrics...\n",
      "Validation Results - Epoch: 1  Average Loss: 2.4645 | Accuracy: 0.1125 | Precision: 0.1037 | Recall: 0.1004\n",
      "Learning rate: 0.00064\n",
      "Compute train metrics...\n",
      "Training Results - Epoch: 2  Average Loss: 2.2129 | Accuracy: 0.1864 | Precision: 0.1580 | Recall: 0.1679\n",
      "Compute validation metrics...\n",
      "Validation Results - Epoch: 2  Average Loss: 2.2523 | Accuracy: 0.1574 | Precision: 0.1375 | Recall: 0.1415\n",
      "Learning rate: 0.0005120000000000001\n",
      "Compute train metrics...\n",
      "Training Results - Epoch: 3  Average Loss: 2.2106 | Accuracy: 0.2053 | Precision: 0.1834 | Recall: 0.1805\n",
      "Compute validation metrics...\n",
      "Validation Results - Epoch: 3  Average Loss: 2.2577 | Accuracy: 0.1919 | Precision: 0.1540 | Recall: 0.1698\n",
      "Learning rate: 0.0004096000000000001\n",
      "Compute train metrics...\n",
      "Training Results - Epoch: 4  Average Loss: 1.9552 | Accuracy: 0.2729 | Precision: 0.2255 | Recall: 0.2424\n",
      "Compute validation metrics...\n",
      "Validation Results - Epoch: 4  Average Loss: 2.0762 | Accuracy: 0.2241 | Precision: 0.1729 | Recall: 0.1996\n",
      "Learning rate: 0.0003276800000000001\n",
      "Compute train metrics...\n",
      "Training Results - Epoch: 5  Average Loss: 1.6532 | Accuracy: 0.4171 | Precision: 0.3686 | Recall: 0.3727\n",
      "Compute validation metrics...\n",
      "Validation Results - Epoch: 5  Average Loss: 1.9704 | Accuracy: 0.2478 | Precision: 0.2034 | Recall: 0.2202\n",
      "Learning rate: 0.0002621440000000001\n",
      "Compute train metrics...\n",
      "Training Results - Epoch: 6  Average Loss: 1.1295 | Accuracy: 0.6555 | Precision: 0.6140 | Recall: 0.5870\n",
      "Compute validation metrics...\n",
      "Validation Results - Epoch: 6  Average Loss: 1.9183 | Accuracy: 0.2978 | Precision: 0.2605 | Recall: 0.2669\n",
      "Learning rate: 0.00020971520000000012\n",
      "Compute train metrics...\n",
      "Training Results - Epoch: 7  Average Loss: 0.5982 | Accuracy: 0.8529 | Precision: 0.7700 | Recall: 0.7677\n",
      "Compute validation metrics...\n",
      "Validation Results - Epoch: 7  Average Loss: 2.0803 | Accuracy: 0.2871 | Precision: 0.2611 | Recall: 0.2578\n",
      "Learning rate: 0.0001677721600000001\n",
      "Compute train metrics...\n",
      "Training Results - Epoch: 8  Average Loss: 0.2793 | Accuracy: 0.9301 | Precision: 0.8395 | Recall: 0.8373\n",
      "Compute validation metrics...\n",
      "Validation Results - Epoch: 8  Average Loss: 2.6823 | Accuracy: 0.2800 | Precision: 0.2749 | Recall: 0.2524\n",
      "Learning rate: 0.00013421772800000008\n",
      "Compute train metrics...\n",
      "Training Results - Epoch: 9  Average Loss: 0.1393 | Accuracy: 0.9652 | Precision: 0.8690 | Recall: 0.8689\n",
      "Compute validation metrics...\n",
      "Validation Results - Epoch: 9  Average Loss: 2.9851 | Accuracy: 0.2800 | Precision: 0.2715 | Recall: 0.2511\n",
      "Learning rate: 0.00010737418240000007\n",
      "Compute train metrics...\n",
      "Training Results - Epoch: 10  Average Loss: 0.0606 | Accuracy: 0.9887 | Precision: 0.8904 | Recall: 0.8897\n",
      "Compute validation metrics...\n",
      "Validation Results - Epoch: 10  Average Loss: 3.3998 | Accuracy: 0.3018 | Precision: 0.2678 | Recall: 0.2708\n",
      "Learning rate: 8.589934592000007e-05\n",
      "Compute train metrics...\n",
      "Training Results - Epoch: 11  Average Loss: 0.0376 | Accuracy: 0.9935 | Precision: 0.8946 | Recall: 0.8940\n",
      "Compute validation metrics...\n",
      "Validation Results - Epoch: 11  Average Loss: 3.5409 | Accuracy: 0.3134 | Precision: 0.2775 | Recall: 0.2814\n",
      "Learning rate: 6.871947673600006e-05\n",
      "Compute train metrics...\n",
      "Training Results - Epoch: 12  Average Loss: 0.0205 | Accuracy: 0.9955 | Precision: 0.8963 | Recall: 0.8958\n",
      "Compute validation metrics...\n",
      "Validation Results - Epoch: 12  Average Loss: 3.8331 | Accuracy: 0.3103 | Precision: 0.2800 | Recall: 0.2785\n",
      "Learning rate: 5.497558138880005e-05\n",
      "Compute train metrics...\n",
      "Training Results - Epoch: 13  Average Loss: 0.0135 | Accuracy: 0.9975 | Precision: 0.8978 | Recall: 0.8976\n",
      "Compute validation metrics...\n",
      "Validation Results - Epoch: 13  Average Loss: 4.1721 | Accuracy: 0.3136 | Precision: 0.2749 | Recall: 0.2816\n",
      "Learning rate: 4.3980465111040044e-05\n",
      "Compute train metrics...\n",
      "Training Results - Epoch: 14  Average Loss: 0.0107 | Accuracy: 0.9972 | Precision: 0.8977 | Recall: 0.8974\n",
      "Compute validation metrics...\n",
      "Validation Results - Epoch: 14  Average Loss: 4.3713 | Accuracy: 0.3066 | Precision: 0.2807 | Recall: 0.2750\n",
      "Learning rate: 3.5184372088832036e-05\n",
      "Compute train metrics...\n",
      "Training Results - Epoch: 15  Average Loss: 0.0083 | Accuracy: 0.9989 | Precision: 0.8990 | Recall: 0.8990\n",
      "Compute validation metrics...\n",
      "Validation Results - Epoch: 15  Average Loss: 4.4984 | Accuracy: 0.3029 | Precision: 0.2666 | Recall: 0.2720\n",
      "Learning rate: 2.814749767106563e-05\n",
      "Compute train metrics...\n",
      "Training Results - Epoch: 16  Average Loss: 0.0064 | Accuracy: 0.9989 | Precision: 0.8990 | Recall: 0.8990\n",
      "Compute validation metrics...\n",
      "Validation Results - Epoch: 16  Average Loss: 4.6682 | Accuracy: 0.3038 | Precision: 0.2676 | Recall: 0.2724\n",
      "Learning rate: 2.2517998136852506e-05\n",
      "Compute train metrics...\n",
      "Training Results - Epoch: 17  Average Loss: 0.0063 | Accuracy: 0.9980 | Precision: 0.8983 | Recall: 0.8982\n",
      "Compute validation metrics...\n",
      "Validation Results - Epoch: 17  Average Loss: 4.5341 | Accuracy: 0.3131 | Precision: 0.2754 | Recall: 0.2812\n",
      "Learning rate: 1.8014398509482006e-05\n",
      "Compute train metrics...\n",
      "Training Results - Epoch: 18  Average Loss: 0.0053 | Accuracy: 0.9992 | Precision: 0.8992 | Recall: 0.8993\n",
      "Compute validation metrics...\n",
      "Validation Results - Epoch: 18  Average Loss: 4.7581 | Accuracy: 0.3060 | Precision: 0.2739 | Recall: 0.2747\n",
      "Learning rate: 1.4411518807585605e-05\n",
      "Compute train metrics...\n",
      "Training Results - Epoch: 19  Average Loss: 0.0051 | Accuracy: 0.9989 | Precision: 0.8990 | Recall: 0.8990\n",
      "Compute validation metrics...\n",
      "Validation Results - Epoch: 19  Average Loss: 4.8510 | Accuracy: 0.3088 | Precision: 0.2671 | Recall: 0.2774\n",
      "Learning rate: 1.1529215046068485e-05\n",
      "Compute train metrics...\n",
      "Training Results - Epoch: 20  Average Loss: 0.0048 | Accuracy: 0.9989 | Precision: 0.8990 | Recall: 0.8990\n",
      "Compute validation metrics...\n",
      "Validation Results - Epoch: 20  Average Loss: 4.7748 | Accuracy: 0.3134 | Precision: 0.2715 | Recall: 0.2813\n",
      "Learning rate: 9.223372036854789e-06\n",
      "Compute train metrics...\n",
      "Training Results - Epoch: 21  Average Loss: 0.0042 | Accuracy: 0.9992 | Precision: 0.8992 | Recall: 0.8993\n",
      "Compute validation metrics...\n",
      "Validation Results - Epoch: 21  Average Loss: 4.9453 | Accuracy: 0.3055 | Precision: 0.2685 | Recall: 0.2744\n",
      "Learning rate: 7.378697629483831e-06\n",
      "Compute train metrics...\n",
      "Training Results - Epoch: 22  Average Loss: 0.0039 | Accuracy: 0.9992 | Precision: 0.8992 | Recall: 0.8993\n",
      "Compute validation metrics...\n",
      "Validation Results - Epoch: 22  Average Loss: 4.9822 | Accuracy: 0.3122 | Precision: 0.2766 | Recall: 0.2804\n",
      "Learning rate: 5.902958103587065e-06\n",
      "Compute train metrics...\n",
      "Training Results - Epoch: 23  Average Loss: 0.0037 | Accuracy: 0.9992 | Precision: 0.8992 | Recall: 0.8992\n",
      "Compute validation metrics...\n",
      "Validation Results - Epoch: 23  Average Loss: 5.1170 | Accuracy: 0.3134 | Precision: 0.2763 | Recall: 0.2814\n",
      "Learning rate: 4.722366482869652e-06\n",
      "Compute train metrics...\n",
      "Training Results - Epoch: 24  Average Loss: 0.0038 | Accuracy: 0.9992 | Precision: 0.8992 | Recall: 0.8993\n",
      "Compute validation metrics...\n",
      "Validation Results - Epoch: 24  Average Loss: 4.9441 | Accuracy: 0.3131 | Precision: 0.2750 | Recall: 0.2810\n",
      "Learning rate: 3.777893186295722e-06\n",
      "Compute train metrics...\n",
      "Training Results - Epoch: 25  Average Loss: 0.0037 | Accuracy: 0.9989 | Precision: 0.8990 | Recall: 0.8990\n",
      "Compute validation metrics...\n",
      "Validation Results - Epoch: 25  Average Loss: 4.9966 | Accuracy: 0.3066 | Precision: 0.2723 | Recall: 0.2754\n",
      "Learning rate: 3.022314549036578e-06\n",
      "Compute train metrics...\n",
      "Training Results - Epoch: 26  Average Loss: 0.0035 | Accuracy: 0.9983 | Precision: 0.8985 | Recall: 0.8985\n",
      "Compute validation metrics...\n",
      "Validation Results - Epoch: 26  Average Loss: 5.1960 | Accuracy: 0.3091 | Precision: 0.2691 | Recall: 0.2777\n",
      "Learning rate: 2.4178516392292624e-06\n",
      "Compute train metrics...\n",
      "Training Results - Epoch: 27  Average Loss: 0.0037 | Accuracy: 0.9992 | Precision: 0.8992 | Recall: 0.8993\n",
      "Compute validation metrics...\n",
      "Validation Results - Epoch: 27  Average Loss: 4.9021 | Accuracy: 0.3094 | Precision: 0.2712 | Recall: 0.2778\n",
      "Learning rate: 1.93428131138341e-06\n",
      "Compute train metrics...\n",
      "Training Results - Epoch: 28  Average Loss: 0.0033 | Accuracy: 0.9989 | Precision: 0.8990 | Recall: 0.8990\n",
      "Compute validation metrics...\n",
      "Validation Results - Epoch: 28  Average Loss: 5.2119 | Accuracy: 0.3077 | Precision: 0.2730 | Recall: 0.2762\n",
      "Learning rate: 1.547425049106728e-06\n",
      "Compute train metrics...\n",
      "Training Results - Epoch: 29  Average Loss: 0.0033 | Accuracy: 0.9992 | Precision: 0.8992 | Recall: 0.8993\n",
      "Compute validation metrics...\n",
      "Validation Results - Epoch: 29  Average Loss: 5.1621 | Accuracy: 0.3100 | Precision: 0.2726 | Recall: 0.2783\n",
      "Learning rate: 1.2379400392853825e-06\n",
      "Compute train metrics...\n",
      "Training Results - Epoch: 30  Average Loss: 0.0034 | Accuracy: 0.9994 | Precision: 0.8995 | Recall: 0.8995\n",
      "Compute validation metrics...\n",
      "Validation Results - Epoch: 30  Average Loss: 5.1097 | Accuracy: 0.3083 | Precision: 0.2738 | Recall: 0.2768\n",
      "Learning rate: 9.90352031428306e-07\n",
      "Compute train metrics...\n",
      "Training Results - Epoch: 31  Average Loss: 0.0032 | Accuracy: 0.9992 | Precision: 0.8992 | Recall: 0.8993\n",
      "Compute validation metrics...\n",
      "Validation Results - Epoch: 31  Average Loss: 5.3167 | Accuracy: 0.3105 | Precision: 0.2714 | Recall: 0.2788\n",
      "Learning rate: 7.922816251426449e-07\n",
      "Compute train metrics...\n",
      "Training Results - Epoch: 32  Average Loss: 0.0033 | Accuracy: 0.9989 | Precision: 0.8990 | Recall: 0.8990\n",
      "Compute validation metrics...\n",
      "Validation Results - Epoch: 32  Average Loss: 5.1997 | Accuracy: 0.3103 | Precision: 0.2735 | Recall: 0.2787\n",
      "Learning rate: 6.338253001141159e-07\n",
      "Compute train metrics...\n",
      "Training Results - Epoch: 33  Average Loss: 0.0032 | Accuracy: 0.9992 | Precision: 0.8992 | Recall: 0.8993\n",
      "Compute validation metrics...\n",
      "Validation Results - Epoch: 33  Average Loss: 5.1622 | Accuracy: 0.3066 | Precision: 0.2728 | Recall: 0.2754\n"
     ]
    },
    {
     "name": "stderr",
     "output_type": "stream",
     "text": [
      "2022-05-17 09:38:28,864 ignite.handlers.early_stopping.EarlyStopping INFO: EarlyStopping: Stop training\n"
     ]
    }
   ],
   "source": [
    "#!c1.8\n",
    "output = trainer.run(train_dataloader, max_epochs=100)"
   ]
  },
  {
   "cell_type": "markdown",
   "id": "b94611c2",
   "metadata": {
    "cellId": "lljvujdkxsrz0oypumiml9"
   },
   "source": [
    "Загрузка"
   ]
  },
  {
   "cell_type": "code",
   "execution_count": 220,
   "id": "66a16c0a",
   "metadata": {
    "cellId": "yiqruspbuh88e0uossuna"
   },
   "outputs": [
    {
     "data": {
      "text/plain": [
       "<All keys matched successfully>"
      ]
     },
     "metadata": {},
     "output_type": "display_data"
    }
   ],
   "source": [
    "#!c1.8\n",
    "the_model = LeNet()\n",
    "the_model.load_state_dict(torch.load('models/lenet'))"
   ]
  },
  {
   "cell_type": "code",
   "execution_count": 228,
   "id": "36552255",
   "metadata": {
    "cellId": "xcgj6s3hg7kznegtrdanse"
   },
   "outputs": [],
   "source": [
    "#!c1.8\n",
    "def print_history(test_history):\n",
    "    plt.plot(test_accuracy_history);"
   ]
  },
  {
   "cell_type": "code",
   "execution_count": 229,
   "id": "5c79be00",
   "metadata": {
    "cellId": "ukdab46e2i53yag54n5kc"
   },
   "outputs": [
    {
     "data": {
      "image/png": "[encoded data removed]",
      "text/plain": [
       "<Figure size 432x288 with 1 Axes>"
      ]
     },
     "metadata": {
      "needs_background": "light"
     },
     "output_type": "display_data"
    }
   ],
   "source": [
    "#!c1.8\n",
    "print_accuracy(test_accuracy_history)"
   ]
  }
 ],
 "metadata": {
  "kernelspec": {
   "display_name": "Yandex DataSphere Kernel",
   "language": "python",
   "name": "python3"
  },
  "language_info": {
   "codemirror_mode": {
    "name": "ipython",
    "version": 3
   },
   "file_extension": ".py",
   "mimetype": "text/x-python",
   "name": "python",
   "nbconvert_exporter": "python",
   "pygments_lexer": "ipython3",
   "version": "3.7.7"
  },
  "notebookId": "b1a6d714-4ceb-40e4-937b-3338d96351b7",
  "notebookPath": "models_bw/Model_LeNet.ipynb"
 },
 "nbformat": 4,
 "nbformat_minor": 5
}
