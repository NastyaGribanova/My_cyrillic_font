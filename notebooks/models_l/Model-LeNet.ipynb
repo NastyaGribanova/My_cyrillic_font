{
 "cells": [
  {
   "cell_type": "code",
   "execution_count": 230,
   "id": "bf900491",
   "metadata": {
    "cellId": "v4kqdo94uqkvihcgfyow8"
   },
   "outputs": [],
   "source": [
    "#!c1.8\n",
    "import warnings\n",
    "warnings.filterwarnings('ignore')\n",
    "%matplotlib inline"
   ]
  },
  {
   "cell_type": "code",
   "execution_count": 231,
   "id": "ec195a6f",
   "metadata": {
    "cellId": "gu9xnuy1tnt9ntgzs12nxt"
   },
   "outputs": [],
   "source": [
    "#!c1.8\n",
    "from pathlib import Path  \n",
    "import numpy as np  \n",
    "import torch \n",
    "from torch.utils.data import Dataset, DataLoader \n",
    "from torch.utils.data.dataset import Subset \n",
    "from torchvision.datasets import ImageFolder \n",
    "from torchvision.transforms import Compose, RandomResizedCrop, RandomVerticalFlip, RandomHorizontalFlip \n",
    "from torchvision.transforms import ColorJitter, ToTensor, Normalize  \n",
    "import torch.nn as nn "
   ]
  },
  {
   "cell_type": "markdown",
   "id": "26181a8b",
   "metadata": {
    "cellId": "6ukpslzglsh6a9zpl9ffxn"
   },
   "source": [
    "Формируем датасеты"
   ]
  },
  {
   "cell_type": "code",
   "execution_count": null,
   "id": "00b8b261",
   "metadata": {
    "cellId": "7kyr0rlp2hdlz5nywajeb"
   },
   "outputs": [],
   "source": [
    "#!c1.8\n",
    "import splitfolders\n",
    "\n",
    "input_folder = 'Images/'\n",
    "splitfolders.ratio(input_folder, 'images_splited', ratio = (0.65, 0.2, 0.15), seed=13, group_prefix=None)"
   ]
  },
  {
   "cell_type": "code",
   "execution_count": 232,
   "id": "85468110",
   "metadata": {
    "cellId": "ddy09u5zarmmoztcdrp4q"
   },
   "outputs": [],
   "source": [
    "#!c1.8\n",
    "import torchvision\n",
    "from torchvision import transforms, models\n",
    "\n",
    "train_dir = 'images_splited/train'\n",
    "val_dir = 'images_splited/val'\n",
    "test_dir = 'images_splited/test'\n",
    "\n",
    "image_transforms = transforms.Compose([\n",
    "    transforms.Resize((256, 256)),\n",
    "    transforms.Grayscale(1),\n",
    "    transforms.ToTensor()\n",
    "])\n",
    "\n",
    "target_transforms = transforms.Lambda(lambda x: x-1)\n",
    "\n",
    "train_dataset = torchvision.datasets.ImageFolder(train_dir, image_transforms, target_transforms)\n",
    "val_dataset = torchvision.datasets.ImageFolder(val_dir, image_transforms, target_transforms)\n",
    "test_dataset = torchvision.datasets.ImageFolder(test_dir, image_transforms, target_transforms)"
   ]
  },
  {
   "cell_type": "code",
   "execution_count": 233,
   "id": "c390da5c",
   "metadata": {
    "cellId": "uj2et3fw33wpy1n9akql"
   },
   "outputs": [
    {
     "name": "stdout",
     "output_type": "stream",
     "text": [
      "Inter\t    Nunito    Oswald  Raleway  SourceSansPro\n",
      "Montserrat  OpenSans  PTSans  Roboto   Ubuntu\n"
     ]
    }
   ],
   "source": [
    "#!c1.8\n",
    "!ls 'images_splited/train'"
   ]
  },
  {
   "cell_type": "code",
   "execution_count": 234,
   "id": "18c8b090",
   "metadata": {
    "cellId": "yp94yw3eafphu8wzs7psd5"
   },
   "outputs": [],
   "source": [
    "#!c1.8\n",
    "import torch\n",
    "batch_size = 8\n",
    "train_dataloader = torch.utils.data.DataLoader(\n",
    "    train_dataset, batch_size=batch_size, shuffle=True, num_workers=batch_size)\n",
    "val_dataloader = torch.utils.data.DataLoader(\n",
    "    val_dataset, batch_size=batch_size, shuffle=False, num_workers=batch_size)\n",
    "test_dataloader = torch.utils.data.DataLoader(\n",
    "    test_dataset, batch_size=batch_size, shuffle=True, num_workers=batch_size)"
   ]
  },
  {
   "cell_type": "code",
   "execution_count": 235,
   "id": "bfcda1f2",
   "metadata": {
    "cellId": "9u8lovg8nevcuwt7swu3ln"
   },
   "outputs": [
    {
     "data": {
      "text/plain": [
       "1457"
      ]
     },
     "metadata": {},
     "output_type": "display_data"
    }
   ],
   "source": [
    "#!c1.8\n",
    "len(train_dataloader)"
   ]
  },
  {
   "cell_type": "code",
   "execution_count": 236,
   "id": "7717e56f",
   "metadata": {
    "cellId": "ugcxh2wqov85a0vjq46j7g"
   },
   "outputs": [
    {
     "data": {
      "text/plain": [
       "11654"
      ]
     },
     "metadata": {},
     "output_type": "display_data"
    }
   ],
   "source": [
    "#!c1.8\n",
    "len(train_dataset)"
   ]
  },
  {
   "cell_type": "code",
   "execution_count": 239,
   "id": "f516b777",
   "metadata": {
    "cellId": "qt2v2tfaundcoacpy23lkj"
   },
   "outputs": [],
   "source": [
    "#!c1.8\n",
    "import matplotlib.pyplot as plt\n",
    "def show_input(input_tensor, title=''):\n",
    "    image = input_tensor.permute(1, 2, 0).numpy()\n",
    "    plt.imshow(image.clip(0, 1), cmap=\"gray\")\n",
    "    plt.title(title)\n",
    "    plt.show()\n",
    "    plt.pause(0.001)"
   ]
  },
  {
   "cell_type": "code",
   "execution_count": 240,
   "id": "ae1c27bd",
   "metadata": {
    "cellId": "3aagsp3xe2gro948kdt6vs"
   },
   "outputs": [
    {
     "name": "stdout",
     "output_type": "stream",
     "text": [
      "tensor(2)\n"
     ]
    },
    {
     "data": {
      "image/png": "[encoded data removed]",
      "text/plain": [
       "<Figure size 432x288 with 1 Axes>"
      ]
     },
     "metadata": {
      "needs_background": "light"
     },
     "output_type": "display_data"
    }
   ],
   "source": [
    "#!c1.8\n",
    "X_batch, y_batch = next(iter(train_dataloader))\n",
    "show_input(X_batch[0])\n",
    "print(y_batch[0])"
   ]
  },
  {
   "cell_type": "markdown",
   "id": "2a39391c",
   "metadata": {
    "cellId": "r3jpt41ovhe38ic3zap98"
   },
   "source": [
    "Определяем нашу нейронную сеть"
   ]
  },
  {
   "cell_type": "code",
   "execution_count": 241,
   "id": "b865a97c",
   "metadata": {
    "cellId": "53eonftcprbaesxaecjbwl"
   },
   "outputs": [],
   "source": [
    "#!c1.8\n",
    "import torch.nn as nn\n",
    "\n",
    "class LeNet(nn.Module):\n",
    "    def __init__(self):\n",
    "        super(LeNet, self).__init__()\n",
    "        self.conv1 = nn.Conv2d(in_channels=1, out_channels=32, kernel_size=3, padding=1)\n",
    "        self.conv2 = nn.Conv2d(in_channels=32, out_channels=32, kernel_size=3, padding=1)\n",
    "        self.act1 = nn.ReLU()\n",
    "        self.pool1 = nn.MaxPool2d(kernel_size=2, stride=2)\n",
    "        self.bn1 = torch.nn.BatchNorm2d(num_features=32)\n",
    "        \n",
    "        self.conv3 = nn.Conv2d(in_channels=32, out_channels=64, kernel_size=3, padding=1)\n",
    "        self.conv4 = nn.Conv2d(in_channels=64, out_channels=64, kernel_size=3, padding=1)\n",
    "        self.act2 = nn.ReLU()\n",
    "        self.pool2 = nn.MaxPool2d(kernel_size=2, stride=2)\n",
    "        self.bn2 = torch.nn.BatchNorm2d(num_features=64)\n",
    "        \n",
    "        self.conv5 = nn.Conv2d(in_channels=64, out_channels=128, kernel_size=3, padding=1)\n",
    "        self.conv6 = nn.Conv2d(in_channels=128, out_channels=128, kernel_size=3, padding=1)\n",
    "        self.act3 = nn.ReLU()\n",
    "        self.pool3 = nn.MaxPool2d(kernel_size=2, stride=2)\n",
    "        self.bn3 = torch.nn.BatchNorm2d(num_features=128)\n",
    "        \n",
    "        self.flatten = torch.nn.Flatten()\n",
    "        \n",
    "        self.fc1 = nn.Linear(in_features=32 * 32 * 128, out_features=128)\n",
    "        self.fc2 = nn.Linear(128, 10)\n",
    "        \n",
    "        self.drop = torch.nn.Dropout(0.25)\n",
    "        \n",
    "    def forward(self, x):\n",
    "        x = self.conv1(x)\n",
    "        x = self.conv2(x)\n",
    "        x = self.act1(x)\n",
    "        x = self.pool1(x)\n",
    "        x = self.bn1(x)\n",
    "        \n",
    "        x = self.conv3(x)\n",
    "        x = self.conv4(x)\n",
    "        x = self.act2(x)\n",
    "        x = self.pool2(x)\n",
    "        x = self.bn2(x)\n",
    "        \n",
    "        x = self.conv5(x)\n",
    "        x = self.conv6(x)\n",
    "        x = self.act3(x)\n",
    "        x = self.pool3(x)\n",
    "        x = self.bn3(x)\n",
    "        \n",
    "        x = self.flatten(x)\n",
    "        x = self.fc1(x)\n",
    "        x = self.fc2(x)\n",
    "        \n",
    "        x = self.drop(x)\n",
    "        return x"
   ]
  },
  {
   "cell_type": "code",
   "execution_count": 242,
   "id": "2660b6d4",
   "metadata": {
    "cellId": "xsv5m7c5h3erxzhvlryuqq"
   },
   "outputs": [],
   "source": [
    "#!c1.8\n",
    "model = LeNet()\n",
    "optimizer = torch.optim.Adam(model.parameters(), lr=1.0e-3)\n",
    "criterion = nn.CrossEntropyLoss()"
   ]
  },
  {
   "cell_type": "markdown",
   "id": "2d4cc467",
   "metadata": {
    "cellId": "y9wc3m2cz6j4iyw733gleq"
   },
   "source": [
    "process_function для обработки одного батча и служит для реализации проходов по обучающей выборке - только определяет необходимые объекты без запуска обучения. Для дальнейшего запуска на движке Engine"
   ]
  },
  {
   "cell_type": "code",
   "execution_count": 243,
   "id": "869ebd1d",
   "metadata": {
    "cellId": "3afnd81kneta5gztxicdpn"
   },
   "outputs": [
    {
     "name": "stderr",
     "output_type": "stream",
     "text": [
      "Traceback (most recent call last):\n",
      "  File \"/kernel/lib/python3.7/site-packages/ml_kernel/state/state.py\", line 99, in __eq__\n",
      "    self._unwrap()\n",
      "  File \"/kernel/lib/python3.7/site-packages/ml_kernel/state/state.py\", line 84, in _unwrap\n",
      "    raise Exception(\"variable not found\")\n",
      "Exception: variable not found\n",
      "Traceback (most recent call last):\n",
      "  File \"/kernel/lib/python3.7/site-packages/ml_kernel/state/state.py\", line 99, in __eq__\n",
      "    self._unwrap()\n",
      "  File \"/kernel/lib/python3.7/site-packages/ml_kernel/state/state.py\", line 84, in _unwrap\n",
      "    raise Exception(\"variable not found\")\n",
      "Exception: variable not found\n"
     ]
    }
   ],
   "source": [
    "#!c1.8\n",
    "from ignite.engine import Engine, _prepare_batch  \n",
    "device = torch.device('cuda:0' if torch.cuda.is_available() else 'cpu')\n",
    "def process_function(engine, batch):     \n",
    "    model.train()     \n",
    "    optimizer.zero_grad()     \n",
    "    x, y = _prepare_batch(batch, device=device)     \n",
    "    y_pred = model(x)     \n",
    "    loss = criterion(y_pred, y)     \n",
    "    loss.backward()     \n",
    "    optimizer.step()     \n",
    "    return loss.item()  \n",
    "\n",
    "trainer = Engine(process_function)"
   ]
  },
  {
   "cell_type": "markdown",
   "id": "e9797e50",
   "metadata": {
    "cellId": "4sdzlhnguki94a1s1grpzg"
   },
   "source": [
    "Вывод на экран значения функции потерь"
   ]
  },
  {
   "cell_type": "code",
   "execution_count": 244,
   "id": "00e900cb",
   "metadata": {
    "cellId": "4cf0rb6xc75bccrfzz0slm"
   },
   "outputs": [],
   "source": [
    "#!c1.8\n",
    "#from ignite.engine import Events\n",
    "#log_interval = 500\n",
    "#@trainer.on(Events.ITERATION_COMPLETED) \n",
    "#def log_training_loss(engine):     \n",
    "#    iteration = (engine.state.iteration - 1) % len(train_dataloader) + 1     \n",
    "#    if iteration % log_interval == 0:         \n",
    "#        print(\"Epoch[{}] Iteration[{}/{}] Loss: {:.4f}\"               \n",
    "#              .format(engine.state.epoch,                          \n",
    "#                      iteration,                           \n",
    "#                      len(train_dataloader),                           \n",
    "#                      engine.state.output))"
   ]
  },
  {
   "cell_type": "markdown",
   "id": "577a3638",
   "metadata": {
    "cellId": "21fdzh1cnqjy8gw8ly5cfm"
   },
   "source": [
    "Определяем метрики, которые будем печать в процессе обучения"
   ]
  },
  {
   "cell_type": "code",
   "execution_count": 245,
   "id": "4db9a738",
   "metadata": {
    "cellId": "5ys0qr7npm308g7o4hfm3jj"
   },
   "outputs": [],
   "source": [
    "#!c1.8\n",
    "from ignite.metrics import Loss, Accuracy, Precision, Recall\n",
    "metrics = {     \n",
    "    'avg_loss': Loss(criterion),     \n",
    "    'avg_accuracy': Accuracy(),     \n",
    "    'avg_precision': Precision(average=True),     \n",
    "    'avg_recall': Recall(average=True) \n",
    "}"
   ]
  },
  {
   "cell_type": "markdown",
   "id": "33e30b5e",
   "metadata": {
    "cellId": "p2si2ye4qtbps2ykxkufkf"
   },
   "source": [
    "Создаем два движка для оценки модели. Мы создаем два движка для того, чтобы на один из них (val_evaluator) далее прицепить дополнительные обработчики событий для сохранения модели и ранней остановки обучения"
   ]
  },
  {
   "cell_type": "code",
   "execution_count": 246,
   "id": "131456d9",
   "metadata": {
    "cellId": "llm1pfa3nx30uplbbeu3f"
   },
   "outputs": [],
   "source": [
    "#!c1.8\n",
    "from ignite.engine import create_supervised_evaluator\n",
    "train_evaluator = create_supervised_evaluator(model, metrics=metrics, device=device)\n",
    "val_evaluator = create_supervised_evaluator(model, metrics=metrics, device=device)"
   ]
  },
  {
   "cell_type": "markdown",
   "id": "065ca4e9",
   "metadata": {
    "cellId": "dbba5qbcw58zlc3avefk0b"
   },
   "source": [
    "Выберем случайным образом часть обучающей выборки, на которой будем вычислять метрики"
   ]
  },
  {
   "cell_type": "code",
   "execution_count": 247,
   "id": "36528550",
   "metadata": {
    "cellId": "0hcejnkhho2e5e5ozaxfrxh"
   },
   "outputs": [],
   "source": [
    "#!c1.8\n",
    "import numpy as np\n",
    "from torch.utils.data.dataset import Subset\n",
    "indices = np.arange(len(train_dataset))\n",
    "random_indices = np.random.permutation(indices)[:len(val_dataset)]\n",
    "\n",
    "train_subset = Subset(train_dataset, indices=random_indices)\n",
    "\n",
    "train_eval_loader = DataLoader(train_subset, batch_size=batch_size, shuffle=True,\n",
    "                                num_workers=batch_size, \n",
    "                                drop_last=True)"
   ]
  },
  {
   "cell_type": "markdown",
   "id": "1ba914cf",
   "metadata": {
    "cellId": "hyk6oxq8fhvbet0ee8n1l"
   },
   "source": [
    "Определим запуск вычисления и вывода метрик в конце эпохи"
   ]
  },
  {
   "cell_type": "code",
   "execution_count": 248,
   "id": "ef5c4cff",
   "metadata": {
    "cellId": "k9dgxpj43h22n07m6762c"
   },
   "outputs": [],
   "source": [
    "#!c1.8\n",
    "from ignite.engine import Events\n",
    "@trainer.on(Events.EPOCH_COMPLETED) \n",
    "def compute_and_display_offline_train_metrics(engine):\n",
    "    epoch = engine.state.epoch     \n",
    "    print(\"Compute train metrics...\") \n",
    "    metrics = train_evaluator.run(train_eval_loader).metrics  \n",
    "    print(\"Training Results - Epoch: {}  Average Loss: {:.4f} | Accuracy: {:.4f} | Precision: {:.4f} | Recall: {:.4f}\"  \n",
    "          .format(engine.state.epoch,                    \n",
    "                  metrics['avg_loss'],   \n",
    "                  metrics['avg_accuracy'],   \n",
    "                  metrics['avg_precision'],  \n",
    "                  metrics['avg_recall']))  \n",
    "@trainer.on(Events.EPOCH_COMPLETED) \n",
    "def compute_and_display_val_metrics(engine): \n",
    "    epoch = engine.state.epoch    \n",
    "    print(\"Compute validation metrics...\")  \n",
    "    metrics = val_evaluator.run(val_dataloader).metrics   \n",
    "    print(\"Validation Results - Epoch: {}  Average Loss: {:.4f} | Accuracy: {:.4f} | Precision: {:.4f} | Recall: {:.4f}\"  \n",
    "          .format(engine.state.epoch,                     \n",
    "                  metrics['avg_loss'],                   \n",
    "                  metrics['avg_accuracy'],                \n",
    "                  metrics['avg_precision'],     \n",
    "                  metrics['avg_recall'])) "
   ]
  },
  {
   "cell_type": "markdown",
   "id": "08ed4deb",
   "metadata": {
    "cellId": "pmpcjokbgcqhlobc6ub5"
   },
   "source": [
    "Изменяем скорость обучения в начале каждой эпохи"
   ]
  },
  {
   "cell_type": "code",
   "execution_count": 249,
   "id": "31507b85",
   "metadata": {
    "cellId": "cnlh3ik7a3h67728q92vys"
   },
   "outputs": [],
   "source": [
    "#!c1.8\n",
    "from torch.optim.lr_scheduler import ExponentialLR\n",
    "\n",
    "lr_scheduler = ExponentialLR(optimizer, gamma=0.8)\n",
    "\n",
    "@trainer.on(Events.EPOCH_STARTED)\n",
    "def update_lr_scheduler(engine):\n",
    "    lr_scheduler.step()\n",
    "    # Вывод значений скорости обучения:\n",
    "    if len(optimizer.param_groups) == 1:\n",
    "        lr = float(optimizer.param_groups[0]['lr'])\n",
    "        print(\"Learning rate: {}\".format(lr))\n",
    "    else:\n",
    "        for i, param_group in enumerate(optimizer.param_groups):\n",
    "            lr = float(param_group['lr'])\n",
    "            print(\"Learning rate (group {}): {}\".format(i, lr))"
   ]
  },
  {
   "cell_type": "markdown",
   "id": "192848fe",
   "metadata": {
    "cellId": "sbui8ljj88i8259j45n5ir"
   },
   "source": [
    "Сохраняем лучшую модель"
   ]
  },
  {
   "cell_type": "code",
   "execution_count": 250,
   "id": "ef4e74d6",
   "metadata": {
    "cellId": "a22ld4k22x4hlcaxl9x91o"
   },
   "outputs": [
    {
     "data": {
      "text/plain": [
       "<ignite.engine.events.RemovableEventHandle at 0x7f0f42390e50>"
      ]
     },
     "metadata": {},
     "output_type": "display_data"
    }
   ],
   "source": [
    "#!c1.8\n",
    "from ignite.handlers import ModelCheckpoint\n",
    "\n",
    "def score_function(engine):\n",
    "    val_avg_accuracy = engine.state.metrics['avg_accuracy']\n",
    "    return val_avg_accuracy\n",
    "\n",
    "best_model_saver = ModelCheckpoint(\"models\",  \n",
    "                                   filename_prefix=\"model\",\n",
    "                                   score_name=\"val_accuracy\",  \n",
    "                                   score_function=score_function,\n",
    "                                   n_saved=3,\n",
    "                                   #save_as_state_dict=True,\n",
    "                                   create_dir=True,\n",
    "                                   require_empty=False)\n",
    "# \"best_models\" - Папка куда сохранять 1 или несколько лучших моделей\n",
    "# Имя файла -> {filename_prefix}_{name}_{step_number}_{score_name}={abs(score_function_result)}.pth\n",
    "# save_as_state_dict=True,  # Сохранять как `state_dict`\n",
    "\n",
    "val_evaluator.add_event_handler(Events.COMPLETED, \n",
    "                                best_model_saver, \n",
    "                                {\"best_model\": model})"
   ]
  },
  {
   "cell_type": "markdown",
   "id": "6aabefca",
   "metadata": {
    "cellId": "p6lmjiokphqrp8pz1ols4"
   },
   "source": [
    "Ранняя остановка обучения если не будет улучшений на протяжении 20 эпох "
   ]
  },
  {
   "cell_type": "code",
   "execution_count": 251,
   "id": "0c1261c2",
   "metadata": {
    "cellId": "r7hhmmg5a3kse764a5lkwh"
   },
   "outputs": [
    {
     "data": {
      "text/plain": [
       "<ignite.engine.events.RemovableEventHandle at 0x7f0f425f0610>"
      ]
     },
     "metadata": {},
     "output_type": "display_data"
    }
   ],
   "source": [
    "#!c1.8\n",
    "from ignite.handlers import EarlyStopping\n",
    "\n",
    "early_stopping = EarlyStopping(patience=20, \n",
    "                              score_function=score_function, \n",
    "                              trainer=trainer)\n",
    "\n",
    "val_evaluator.add_event_handler(Events.EPOCH_COMPLETED, early_stopping)"
   ]
  },
  {
   "cell_type": "code",
   "execution_count": 252,
   "id": "d4c2eb2e",
   "metadata": {
    "cellId": "7eqqlitni2ec073nxyc0h"
   },
   "outputs": [
    {
     "name": "stdout",
     "output_type": "stream",
     "text": [
      "Learning rate: 0.0008\n",
      "Compute train metrics...\n",
      "Training Results - Epoch: 1  Average Loss: 2.4502 | Accuracy: 0.1088 | Precision: 0.0893 | Recall: 0.0990\n",
      "Compute validation metrics...\n",
      "Validation Results - Epoch: 1  Average Loss: 2.4645 | Accuracy: 0.1104 | Precision: 0.0506 | Recall: 0.1008\n",
      "Learning rate: 0.00064\n",
      "Compute train metrics...\n",
      "Training Results - Epoch: 2  Average Loss: 2.3972 | Accuracy: 0.1055 | Precision: 0.0805 | Recall: 0.0937\n",
      "Compute validation metrics...\n",
      "Validation Results - Epoch: 2  Average Loss: 2.3978 | Accuracy: 0.1149 | Precision: 0.1134 | Recall: 0.1032\n",
      "Learning rate: 0.0005120000000000001\n",
      "Compute train metrics...\n",
      "Training Results - Epoch: 3  Average Loss: 2.3656 | Accuracy: 0.1278 | Precision: 0.1210 | Recall: 0.1141\n",
      "Compute validation metrics...\n",
      "Validation Results - Epoch: 3  Average Loss: 2.3831 | Accuracy: 0.1074 | Precision: 0.0900 | Recall: 0.0964\n",
      "Learning rate: 0.0004096000000000001\n",
      "Compute train metrics...\n",
      "Training Results - Epoch: 4  Average Loss: 2.3914 | Accuracy: 0.1044 | Precision: 0.0853 | Recall: 0.0951\n",
      "Compute validation metrics...\n",
      "Validation Results - Epoch: 4  Average Loss: 2.3890 | Accuracy: 0.1076 | Precision: 0.0737 | Recall: 0.0965\n",
      "Learning rate: 0.0003276800000000001\n",
      "Compute train metrics...\n",
      "Training Results - Epoch: 5  Average Loss: 2.2894 | Accuracy: 0.1270 | Precision: 0.1176 | Recall: 0.1152\n",
      "Compute validation metrics...\n",
      "Validation Results - Epoch: 5  Average Loss: 2.2998 | Accuracy: 0.1171 | Precision: 0.1042 | Recall: 0.1069\n",
      "Learning rate: 0.0002621440000000001\n",
      "Compute train metrics...\n",
      "Training Results - Epoch: 6  Average Loss: 2.0767 | Accuracy: 0.2146 | Precision: 0.1970 | Recall: 0.1927\n",
      "Compute validation metrics...\n",
      "Validation Results - Epoch: 6  Average Loss: 2.1246 | Accuracy: 0.1863 | Precision: 0.1430 | Recall: 0.1657\n",
      "Learning rate: 0.00020971520000000012\n",
      "Compute train metrics...\n",
      "Training Results - Epoch: 7  Average Loss: 2.0193 | Accuracy: 0.2199 | Precision: 0.2148 | Recall: 0.1950\n",
      "Compute validation metrics...\n",
      "Validation Results - Epoch: 7  Average Loss: 2.0881 | Accuracy: 0.1924 | Precision: 0.1821 | Recall: 0.1724\n",
      "Learning rate: 0.0001677721600000001\n",
      "Compute train metrics...\n",
      "Training Results - Epoch: 8  Average Loss: 1.8892 | Accuracy: 0.2966 | Precision: 0.2862 | Recall: 0.2649\n",
      "Compute validation metrics...\n",
      "Validation Results - Epoch: 8  Average Loss: 2.0499 | Accuracy: 0.2150 | Precision: 0.1687 | Recall: 0.1913\n",
      "Learning rate: 0.00013421772800000008\n",
      "Compute train metrics...\n",
      "Training Results - Epoch: 9  Average Loss: 1.6999 | Accuracy: 0.3906 | Precision: 0.3714 | Recall: 0.3519\n",
      "Compute validation metrics...\n",
      "Validation Results - Epoch: 9  Average Loss: 2.0389 | Accuracy: 0.2351 | Precision: 0.2001 | Recall: 0.2101\n",
      "Learning rate: 0.00010737418240000007\n",
      "Compute train metrics...\n",
      "Training Results - Epoch: 10  Average Loss: 1.4819 | Accuracy: 0.5184 | Precision: 0.4933 | Recall: 0.4675\n",
      "Compute validation metrics...\n",
      "Validation Results - Epoch: 10  Average Loss: 2.0758 | Accuracy: 0.2303 | Precision: 0.2029 | Recall: 0.2065\n",
      "Learning rate: 8.589934592000007e-05\n",
      "Compute train metrics...\n",
      "Training Results - Epoch: 11  Average Loss: 1.1869 | Accuracy: 0.6046 | Precision: 0.6034 | Recall: 0.5431\n",
      "Compute validation metrics...\n",
      "Validation Results - Epoch: 11  Average Loss: 2.2556 | Accuracy: 0.2337 | Precision: 0.2118 | Recall: 0.2078\n",
      "Learning rate: 6.871947673600006e-05\n",
      "Compute train metrics...\n",
      "Training Results - Epoch: 12  Average Loss: 0.9031 | Accuracy: 0.7134 | Precision: 0.6836 | Recall: 0.6417\n",
      "Compute validation metrics...\n",
      "Validation Results - Epoch: 12  Average Loss: 2.5514 | Accuracy: 0.2301 | Precision: 0.2005 | Recall: 0.2058\n",
      "Learning rate: 5.497558138880005e-05\n",
      "Compute train metrics...\n",
      "Training Results - Epoch: 13  Average Loss: 0.6562 | Accuracy: 0.8061 | Precision: 0.7412 | Recall: 0.7257\n",
      "Compute validation metrics...\n",
      "Validation Results - Epoch: 13  Average Loss: 2.7962 | Accuracy: 0.2253 | Precision: 0.2014 | Recall: 0.2019\n",
      "Learning rate: 4.3980465111040044e-05\n",
      "Compute train metrics...\n",
      "Training Results - Epoch: 14  Average Loss: 0.5002 | Accuracy: 0.8694 | Precision: 0.7863 | Recall: 0.7824\n",
      "Compute validation metrics...\n",
      "Validation Results - Epoch: 14  Average Loss: 3.0592 | Accuracy: 0.2203 | Precision: 0.1907 | Recall: 0.1973\n",
      "Learning rate: 3.5184372088832036e-05\n",
      "Compute train metrics...\n",
      "Training Results - Epoch: 15  Average Loss: 0.3987 | Accuracy: 0.8915 | Precision: 0.8224 | Recall: 0.8027\n",
      "Compute validation metrics...\n",
      "Validation Results - Epoch: 15  Average Loss: 3.3114 | Accuracy: 0.2317 | Precision: 0.2017 | Recall: 0.2071\n",
      "Learning rate: 2.814749767106563e-05\n",
      "Compute train metrics...\n",
      "Training Results - Epoch: 16  Average Loss: 0.3056 | Accuracy: 0.9283 | Precision: 0.8383 | Recall: 0.8355\n",
      "Compute validation metrics...\n",
      "Validation Results - Epoch: 16  Average Loss: 3.6197 | Accuracy: 0.2211 | Precision: 0.2009 | Recall: 0.1977\n",
      "Learning rate: 2.2517998136852506e-05\n",
      "Compute train metrics...\n",
      "Training Results - Epoch: 17  Average Loss: 0.2427 | Accuracy: 0.9512 | Precision: 0.8567 | Recall: 0.8560\n",
      "Compute validation metrics...\n",
      "Validation Results - Epoch: 17  Average Loss: 3.8065 | Accuracy: 0.2220 | Precision: 0.1892 | Recall: 0.1985\n",
      "Learning rate: 1.8014398509482006e-05\n",
      "Compute train metrics...\n",
      "Training Results - Epoch: 18  Average Loss: 0.2123 | Accuracy: 0.9551 | Precision: 0.8602 | Recall: 0.8595\n",
      "Compute validation metrics...\n",
      "Validation Results - Epoch: 18  Average Loss: 3.8259 | Accuracy: 0.2234 | Precision: 0.1928 | Recall: 0.1998\n",
      "Learning rate: 1.4411518807585605e-05\n",
      "Compute train metrics...\n",
      "Training Results - Epoch: 19  Average Loss: 0.1888 | Accuracy: 0.9604 | Precision: 0.8649 | Recall: 0.8643\n",
      "Compute validation metrics...\n",
      "Validation Results - Epoch: 19  Average Loss: 3.9433 | Accuracy: 0.2236 | Precision: 0.1903 | Recall: 0.2003\n",
      "Learning rate: 1.1529215046068485e-05\n",
      "Compute train metrics...\n",
      "Training Results - Epoch: 20  Average Loss: 0.1723 | Accuracy: 0.9671 | Precision: 0.8710 | Recall: 0.8704\n",
      "Compute validation metrics...\n",
      "Validation Results - Epoch: 20  Average Loss: 3.9768 | Accuracy: 0.2245 | Precision: 0.1919 | Recall: 0.2007\n",
      "Learning rate: 9.223372036854789e-06\n",
      "Compute train metrics...\n",
      "Training Results - Epoch: 21  Average Loss: 0.1563 | Accuracy: 0.9699 | Precision: 0.8737 | Recall: 0.8728\n",
      "Compute validation metrics...\n",
      "Validation Results - Epoch: 21  Average Loss: 4.0579 | Accuracy: 0.2264 | Precision: 0.1957 | Recall: 0.2025\n",
      "Learning rate: 7.378697629483831e-06\n",
      "Compute train metrics...\n",
      "Training Results - Epoch: 22  Average Loss: 0.1412 | Accuracy: 0.9727 | Precision: 0.8756 | Recall: 0.8753\n",
      "Compute validation metrics...\n",
      "Validation Results - Epoch: 22  Average Loss: 4.1838 | Accuracy: 0.2239 | Precision: 0.1974 | Recall: 0.2004\n",
      "Learning rate: 5.902958103587065e-06\n",
      "Compute train metrics...\n",
      "Training Results - Epoch: 23  Average Loss: 0.1238 | Accuracy: 0.9760 | Precision: 0.8792 | Recall: 0.8783\n",
      "Compute validation metrics...\n",
      "Validation Results - Epoch: 23  Average Loss: 4.2803 | Accuracy: 0.2264 | Precision: 0.1943 | Recall: 0.2024\n",
      "Learning rate: 4.722366482869652e-06\n",
      "Compute train metrics...\n",
      "Training Results - Epoch: 24  Average Loss: 0.1199 | Accuracy: 0.9754 | Precision: 0.8785 | Recall: 0.8778\n",
      "Compute validation metrics...\n",
      "Validation Results - Epoch: 24  Average Loss: 4.2891 | Accuracy: 0.2259 | Precision: 0.1943 | Recall: 0.2021\n",
      "Learning rate: 3.777893186295722e-06\n",
      "Compute train metrics...\n",
      "Training Results - Epoch: 25  Average Loss: 0.1138 | Accuracy: 0.9788 | Precision: 0.8812 | Recall: 0.8809\n",
      "Compute validation metrics...\n",
      "Validation Results - Epoch: 25  Average Loss: 4.3315 | Accuracy: 0.2306 | Precision: 0.1975 | Recall: 0.2064\n",
      "Learning rate: 3.022314549036578e-06\n",
      "Compute train metrics...\n",
      "Training Results - Epoch: 26  Average Loss: 0.1111 | Accuracy: 0.9791 | Precision: 0.8813 | Recall: 0.8811\n",
      "Compute validation metrics...\n",
      "Validation Results - Epoch: 26  Average Loss: 4.4227 | Accuracy: 0.2217 | Precision: 0.1942 | Recall: 0.1981\n",
      "Learning rate: 2.4178516392292624e-06\n",
      "Compute train metrics...\n",
      "Training Results - Epoch: 27  Average Loss: 0.1007 | Accuracy: 0.9810 | Precision: 0.8831 | Recall: 0.8829\n",
      "Compute validation metrics...\n",
      "Validation Results - Epoch: 27  Average Loss: 4.5406 | Accuracy: 0.2276 | Precision: 0.1963 | Recall: 0.2035\n",
      "Learning rate: 1.93428131138341e-06\n",
      "Compute train metrics...\n",
      "Training Results - Epoch: 28  Average Loss: 0.1023 | Accuracy: 0.9810 | Precision: 0.8830 | Recall: 0.8829\n",
      "Compute validation metrics...\n",
      "Validation Results - Epoch: 28  Average Loss: 4.4639 | Accuracy: 0.2262 | Precision: 0.1958 | Recall: 0.2022\n",
      "Learning rate: 1.547425049106728e-06\n",
      "Compute train metrics...\n",
      "Training Results - Epoch: 29  Average Loss: 0.0984 | Accuracy: 0.9827 | Precision: 0.8845 | Recall: 0.8844\n",
      "Compute validation metrics...\n",
      "Validation Results - Epoch: 29  Average Loss: 4.4569 | Accuracy: 0.2284 | Precision: 0.1959 | Recall: 0.2042\n"
     ]
    }
   ],
   "source": [
    "#!c1.8\n",
    "output = trainer.run(train_dataloader, max_epochs=100)"
   ]
  },
  {
   "cell_type": "markdown",
   "id": "aedd8a38",
   "metadata": {
    "cellId": "lljvujdkxsrz0oypumiml9"
   },
   "source": [
    "Загрузка"
   ]
  },
  {
   "cell_type": "code",
   "execution_count": 220,
   "id": "c5efdf97",
   "metadata": {
    "cellId": "yiqruspbuh88e0uossuna"
   },
   "outputs": [
    {
     "data": {
      "text/plain": [
       "<All keys matched successfully>"
      ]
     },
     "metadata": {},
     "output_type": "display_data"
    }
   ],
   "source": [
    "#!c1.8\n",
    "the_model = LeNet()\n",
    "the_model.load_state_dict(torch.load('models/lenet'))"
   ]
  },
  {
   "cell_type": "code",
   "execution_count": 228,
   "id": "6f891dff",
   "metadata": {
    "cellId": "xcgj6s3hg7kznegtrdanse"
   },
   "outputs": [],
   "source": [
    "#!c1.8\n",
    "def print_history(test_history):\n",
    "    plt.plot(test_accuracy_history);"
   ]
  },
  {
   "cell_type": "code",
   "execution_count": 229,
   "id": "fbb44177",
   "metadata": {
    "cellId": "ukdab46e2i53yag54n5kc"
   },
   "outputs": [
    {
     "data": {
      "image/png": "[encoded data removed]",
      "text/plain": [
       "<Figure size 432x288 with 1 Axes>"
      ]
     },
     "metadata": {
      "needs_background": "light"
     },
     "output_type": "display_data"
    }
   ],
   "source": [
    "#!c1.8\n",
    "print_accuracy(test_accuracy_history)"
   ]
  }
 ],
 "metadata": {
  "kernelspec": {
   "display_name": "Yandex DataSphere Kernel",
   "language": "python",
   "name": "python3"
  },
  "language_info": {
   "codemirror_mode": {
    "name": "ipython",
    "version": 3
   },
   "file_extension": ".py",
   "mimetype": "text/x-python",
   "name": "python",
   "nbconvert_exporter": "python",
   "pygments_lexer": "ipython3",
   "version": "3.7.7"
  },
  "notebookId": "766d593d-04c6-4c5d-92e1-944b6422f2a8",
  "notebookPath": "models_l/Model-LeNet.ipynb"
 },
 "nbformat": 4,
 "nbformat_minor": 5
}
